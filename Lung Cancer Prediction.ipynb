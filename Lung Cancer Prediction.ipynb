{
 "cells": [
  {
   "cell_type": "markdown",
   "id": "1301357f",
   "metadata": {},
   "source": [
    "# Introduction\n",
    "\n",
    "This document will describe the investigation process of analysing a medical data set regarding lung cancer. This data set is retrieved from Kaggle using this link https://www.kaggle.com/mysarahmadbhat/lung-cancer. This document will first analyse the data set in an attempt to understand the data. Following this, the data set will be prepared to fit into models, the models will be created and an evaluation will be made."
   ]
  },
  {
   "cell_type": "code",
   "execution_count": 1,
   "id": "84954729",
   "metadata": {},
   "outputs": [],
   "source": [
    "import pandas as pd\n",
    "import numpy as np\n",
    "import seaborn as sns # for making visualizations\n",
    "import matplotlib.pyplot as plt #for making visualizations\n",
    "from sklearn.metrics import * #for evaluation\n",
    "from sklearn.model_selection import train_test_split # to divide the dataset\n",
    "from sklearn.preprocessing import OneHotEncoder # To encode categorical into numerical values\n",
    "from sklearn.preprocessing import StandardScaler # to feature scale the data\n",
    "\n",
    "\n",
    "# To train the models\n",
    "from sklearn.ensemble import RandomForestClassifier\n",
    "from sklearn import svm\n",
    "from sklearn.linear_model import LogisticRegression\n",
    "from sklearn.neighbors import KNeighborsClassifier\n",
    "\n",
    "\n",
    "# For evaluation\n",
    "from sklearn.metrics import mean_absolute_error\n",
    "from sklearn.metrics import mean_squared_error\n",
    "from sklearn.metrics import accuracy_score"
   ]
  },
  {
   "cell_type": "code",
   "execution_count": 2,
   "id": "79f08051",
   "metadata": {},
   "outputs": [],
   "source": [
    "# load in data\n",
    "data = pd.read_csv('survey lung cancer.csv')"
   ]
  },
  {
   "cell_type": "code",
   "execution_count": 3,
   "id": "8e8fbc95",
   "metadata": {},
   "outputs": [],
   "source": [
    "df = pd.DataFrame(data)"
   ]
  },
  {
   "cell_type": "markdown",
   "id": "4e2ccf15",
   "metadata": {},
   "source": [
    "# Attempt to Understand the Data"
   ]
  },
  {
   "cell_type": "code",
   "execution_count": 4,
   "id": "b37ef0a3",
   "metadata": {},
   "outputs": [
    {
     "data": {
      "text/html": [
       "<div>\n",
       "<style scoped>\n",
       "    .dataframe tbody tr th:only-of-type {\n",
       "        vertical-align: middle;\n",
       "    }\n",
       "\n",
       "    .dataframe tbody tr th {\n",
       "        vertical-align: top;\n",
       "    }\n",
       "\n",
       "    .dataframe thead th {\n",
       "        text-align: right;\n",
       "    }\n",
       "</style>\n",
       "<table border=\"1\" class=\"dataframe\">\n",
       "  <thead>\n",
       "    <tr style=\"text-align: right;\">\n",
       "      <th></th>\n",
       "      <th>GENDER</th>\n",
       "      <th>AGE</th>\n",
       "      <th>SMOKING</th>\n",
       "      <th>YELLOW_FINGERS</th>\n",
       "      <th>ANXIETY</th>\n",
       "      <th>PEER_PRESSURE</th>\n",
       "      <th>CHRONIC DISEASE</th>\n",
       "      <th>FATIGUE</th>\n",
       "      <th>ALLERGY</th>\n",
       "      <th>WHEEZING</th>\n",
       "      <th>ALCOHOL CONSUMING</th>\n",
       "      <th>COUGHING</th>\n",
       "      <th>SHORTNESS OF BREATH</th>\n",
       "      <th>SWALLOWING DIFFICULTY</th>\n",
       "      <th>CHEST PAIN</th>\n",
       "      <th>LUNG_CANCER</th>\n",
       "    </tr>\n",
       "  </thead>\n",
       "  <tbody>\n",
       "    <tr>\n",
       "      <th>0</th>\n",
       "      <td>M</td>\n",
       "      <td>69</td>\n",
       "      <td>1</td>\n",
       "      <td>2</td>\n",
       "      <td>2</td>\n",
       "      <td>1</td>\n",
       "      <td>1</td>\n",
       "      <td>2</td>\n",
       "      <td>1</td>\n",
       "      <td>2</td>\n",
       "      <td>2</td>\n",
       "      <td>2</td>\n",
       "      <td>2</td>\n",
       "      <td>2</td>\n",
       "      <td>2</td>\n",
       "      <td>YES</td>\n",
       "    </tr>\n",
       "    <tr>\n",
       "      <th>1</th>\n",
       "      <td>M</td>\n",
       "      <td>74</td>\n",
       "      <td>2</td>\n",
       "      <td>1</td>\n",
       "      <td>1</td>\n",
       "      <td>1</td>\n",
       "      <td>2</td>\n",
       "      <td>2</td>\n",
       "      <td>2</td>\n",
       "      <td>1</td>\n",
       "      <td>1</td>\n",
       "      <td>1</td>\n",
       "      <td>2</td>\n",
       "      <td>2</td>\n",
       "      <td>2</td>\n",
       "      <td>YES</td>\n",
       "    </tr>\n",
       "    <tr>\n",
       "      <th>2</th>\n",
       "      <td>F</td>\n",
       "      <td>59</td>\n",
       "      <td>1</td>\n",
       "      <td>1</td>\n",
       "      <td>1</td>\n",
       "      <td>2</td>\n",
       "      <td>1</td>\n",
       "      <td>2</td>\n",
       "      <td>1</td>\n",
       "      <td>2</td>\n",
       "      <td>1</td>\n",
       "      <td>2</td>\n",
       "      <td>2</td>\n",
       "      <td>1</td>\n",
       "      <td>2</td>\n",
       "      <td>NO</td>\n",
       "    </tr>\n",
       "    <tr>\n",
       "      <th>3</th>\n",
       "      <td>M</td>\n",
       "      <td>63</td>\n",
       "      <td>2</td>\n",
       "      <td>2</td>\n",
       "      <td>2</td>\n",
       "      <td>1</td>\n",
       "      <td>1</td>\n",
       "      <td>1</td>\n",
       "      <td>1</td>\n",
       "      <td>1</td>\n",
       "      <td>2</td>\n",
       "      <td>1</td>\n",
       "      <td>1</td>\n",
       "      <td>2</td>\n",
       "      <td>2</td>\n",
       "      <td>NO</td>\n",
       "    </tr>\n",
       "    <tr>\n",
       "      <th>4</th>\n",
       "      <td>F</td>\n",
       "      <td>63</td>\n",
       "      <td>1</td>\n",
       "      <td>2</td>\n",
       "      <td>1</td>\n",
       "      <td>1</td>\n",
       "      <td>1</td>\n",
       "      <td>1</td>\n",
       "      <td>1</td>\n",
       "      <td>2</td>\n",
       "      <td>1</td>\n",
       "      <td>2</td>\n",
       "      <td>2</td>\n",
       "      <td>1</td>\n",
       "      <td>1</td>\n",
       "      <td>NO</td>\n",
       "    </tr>\n",
       "  </tbody>\n",
       "</table>\n",
       "</div>"
      ],
      "text/plain": [
       "  GENDER  AGE  SMOKING  YELLOW_FINGERS  ANXIETY  PEER_PRESSURE  \\\n",
       "0      M   69        1               2        2              1   \n",
       "1      M   74        2               1        1              1   \n",
       "2      F   59        1               1        1              2   \n",
       "3      M   63        2               2        2              1   \n",
       "4      F   63        1               2        1              1   \n",
       "\n",
       "   CHRONIC DISEASE  FATIGUE   ALLERGY   WHEEZING  ALCOHOL CONSUMING  COUGHING  \\\n",
       "0                1         2         1         2                  2         2   \n",
       "1                2         2         2         1                  1         1   \n",
       "2                1         2         1         2                  1         2   \n",
       "3                1         1         1         1                  2         1   \n",
       "4                1         1         1         2                  1         2   \n",
       "\n",
       "   SHORTNESS OF BREATH  SWALLOWING DIFFICULTY  CHEST PAIN LUNG_CANCER  \n",
       "0                    2                      2           2         YES  \n",
       "1                    2                      2           2         YES  \n",
       "2                    2                      1           2          NO  \n",
       "3                    1                      2           2          NO  \n",
       "4                    2                      1           1          NO  "
      ]
     },
     "execution_count": 4,
     "metadata": {},
     "output_type": "execute_result"
    }
   ],
   "source": [
    "df.head()"
   ]
  },
  {
   "cell_type": "code",
   "execution_count": 5,
   "id": "e36997c1",
   "metadata": {},
   "outputs": [
    {
     "name": "stdout",
     "output_type": "stream",
     "text": [
      "<class 'pandas.core.frame.DataFrame'>\n",
      "RangeIndex: 309 entries, 0 to 308\n",
      "Data columns (total 16 columns):\n",
      " #   Column                 Non-Null Count  Dtype \n",
      "---  ------                 --------------  ----- \n",
      " 0   GENDER                 309 non-null    object\n",
      " 1   AGE                    309 non-null    int64 \n",
      " 2   SMOKING                309 non-null    int64 \n",
      " 3   YELLOW_FINGERS         309 non-null    int64 \n",
      " 4   ANXIETY                309 non-null    int64 \n",
      " 5   PEER_PRESSURE          309 non-null    int64 \n",
      " 6   CHRONIC DISEASE        309 non-null    int64 \n",
      " 7   FATIGUE                309 non-null    int64 \n",
      " 8   ALLERGY                309 non-null    int64 \n",
      " 9   WHEEZING               309 non-null    int64 \n",
      " 10  ALCOHOL CONSUMING      309 non-null    int64 \n",
      " 11  COUGHING               309 non-null    int64 \n",
      " 12  SHORTNESS OF BREATH    309 non-null    int64 \n",
      " 13  SWALLOWING DIFFICULTY  309 non-null    int64 \n",
      " 14  CHEST PAIN             309 non-null    int64 \n",
      " 15  LUNG_CANCER            309 non-null    object\n",
      "dtypes: int64(14), object(2)\n",
      "memory usage: 38.8+ KB\n"
     ]
    }
   ],
   "source": [
    "df.info()\n",
    "# We see that 2 columns are categorical, so we will most likely need to encode that later on to avoid errors"
   ]
  },
  {
   "cell_type": "code",
   "execution_count": 6,
   "id": "dce26dc1",
   "metadata": {},
   "outputs": [
    {
     "data": {
      "text/html": [
       "<div>\n",
       "<style scoped>\n",
       "    .dataframe tbody tr th:only-of-type {\n",
       "        vertical-align: middle;\n",
       "    }\n",
       "\n",
       "    .dataframe tbody tr th {\n",
       "        vertical-align: top;\n",
       "    }\n",
       "\n",
       "    .dataframe thead th {\n",
       "        text-align: right;\n",
       "    }\n",
       "</style>\n",
       "<table border=\"1\" class=\"dataframe\">\n",
       "  <thead>\n",
       "    <tr style=\"text-align: right;\">\n",
       "      <th></th>\n",
       "      <th>AGE</th>\n",
       "      <th>SMOKING</th>\n",
       "      <th>YELLOW_FINGERS</th>\n",
       "      <th>ANXIETY</th>\n",
       "      <th>PEER_PRESSURE</th>\n",
       "      <th>CHRONIC DISEASE</th>\n",
       "      <th>FATIGUE</th>\n",
       "      <th>ALLERGY</th>\n",
       "      <th>WHEEZING</th>\n",
       "      <th>ALCOHOL CONSUMING</th>\n",
       "      <th>COUGHING</th>\n",
       "      <th>SHORTNESS OF BREATH</th>\n",
       "      <th>SWALLOWING DIFFICULTY</th>\n",
       "      <th>CHEST PAIN</th>\n",
       "    </tr>\n",
       "  </thead>\n",
       "  <tbody>\n",
       "    <tr>\n",
       "      <th>count</th>\n",
       "      <td>309.000000</td>\n",
       "      <td>309.000000</td>\n",
       "      <td>309.000000</td>\n",
       "      <td>309.000000</td>\n",
       "      <td>309.000000</td>\n",
       "      <td>309.000000</td>\n",
       "      <td>309.000000</td>\n",
       "      <td>309.000000</td>\n",
       "      <td>309.000000</td>\n",
       "      <td>309.000000</td>\n",
       "      <td>309.000000</td>\n",
       "      <td>309.000000</td>\n",
       "      <td>309.000000</td>\n",
       "      <td>309.000000</td>\n",
       "    </tr>\n",
       "    <tr>\n",
       "      <th>mean</th>\n",
       "      <td>62.673139</td>\n",
       "      <td>1.563107</td>\n",
       "      <td>1.569579</td>\n",
       "      <td>1.498382</td>\n",
       "      <td>1.501618</td>\n",
       "      <td>1.504854</td>\n",
       "      <td>1.673139</td>\n",
       "      <td>1.556634</td>\n",
       "      <td>1.556634</td>\n",
       "      <td>1.556634</td>\n",
       "      <td>1.579288</td>\n",
       "      <td>1.640777</td>\n",
       "      <td>1.469256</td>\n",
       "      <td>1.556634</td>\n",
       "    </tr>\n",
       "    <tr>\n",
       "      <th>std</th>\n",
       "      <td>8.210301</td>\n",
       "      <td>0.496806</td>\n",
       "      <td>0.495938</td>\n",
       "      <td>0.500808</td>\n",
       "      <td>0.500808</td>\n",
       "      <td>0.500787</td>\n",
       "      <td>0.469827</td>\n",
       "      <td>0.497588</td>\n",
       "      <td>0.497588</td>\n",
       "      <td>0.497588</td>\n",
       "      <td>0.494474</td>\n",
       "      <td>0.480551</td>\n",
       "      <td>0.499863</td>\n",
       "      <td>0.497588</td>\n",
       "    </tr>\n",
       "    <tr>\n",
       "      <th>min</th>\n",
       "      <td>21.000000</td>\n",
       "      <td>1.000000</td>\n",
       "      <td>1.000000</td>\n",
       "      <td>1.000000</td>\n",
       "      <td>1.000000</td>\n",
       "      <td>1.000000</td>\n",
       "      <td>1.000000</td>\n",
       "      <td>1.000000</td>\n",
       "      <td>1.000000</td>\n",
       "      <td>1.000000</td>\n",
       "      <td>1.000000</td>\n",
       "      <td>1.000000</td>\n",
       "      <td>1.000000</td>\n",
       "      <td>1.000000</td>\n",
       "    </tr>\n",
       "    <tr>\n",
       "      <th>25%</th>\n",
       "      <td>57.000000</td>\n",
       "      <td>1.000000</td>\n",
       "      <td>1.000000</td>\n",
       "      <td>1.000000</td>\n",
       "      <td>1.000000</td>\n",
       "      <td>1.000000</td>\n",
       "      <td>1.000000</td>\n",
       "      <td>1.000000</td>\n",
       "      <td>1.000000</td>\n",
       "      <td>1.000000</td>\n",
       "      <td>1.000000</td>\n",
       "      <td>1.000000</td>\n",
       "      <td>1.000000</td>\n",
       "      <td>1.000000</td>\n",
       "    </tr>\n",
       "    <tr>\n",
       "      <th>50%</th>\n",
       "      <td>62.000000</td>\n",
       "      <td>2.000000</td>\n",
       "      <td>2.000000</td>\n",
       "      <td>1.000000</td>\n",
       "      <td>2.000000</td>\n",
       "      <td>2.000000</td>\n",
       "      <td>2.000000</td>\n",
       "      <td>2.000000</td>\n",
       "      <td>2.000000</td>\n",
       "      <td>2.000000</td>\n",
       "      <td>2.000000</td>\n",
       "      <td>2.000000</td>\n",
       "      <td>1.000000</td>\n",
       "      <td>2.000000</td>\n",
       "    </tr>\n",
       "    <tr>\n",
       "      <th>75%</th>\n",
       "      <td>69.000000</td>\n",
       "      <td>2.000000</td>\n",
       "      <td>2.000000</td>\n",
       "      <td>2.000000</td>\n",
       "      <td>2.000000</td>\n",
       "      <td>2.000000</td>\n",
       "      <td>2.000000</td>\n",
       "      <td>2.000000</td>\n",
       "      <td>2.000000</td>\n",
       "      <td>2.000000</td>\n",
       "      <td>2.000000</td>\n",
       "      <td>2.000000</td>\n",
       "      <td>2.000000</td>\n",
       "      <td>2.000000</td>\n",
       "    </tr>\n",
       "    <tr>\n",
       "      <th>max</th>\n",
       "      <td>87.000000</td>\n",
       "      <td>2.000000</td>\n",
       "      <td>2.000000</td>\n",
       "      <td>2.000000</td>\n",
       "      <td>2.000000</td>\n",
       "      <td>2.000000</td>\n",
       "      <td>2.000000</td>\n",
       "      <td>2.000000</td>\n",
       "      <td>2.000000</td>\n",
       "      <td>2.000000</td>\n",
       "      <td>2.000000</td>\n",
       "      <td>2.000000</td>\n",
       "      <td>2.000000</td>\n",
       "      <td>2.000000</td>\n",
       "    </tr>\n",
       "  </tbody>\n",
       "</table>\n",
       "</div>"
      ],
      "text/plain": [
       "              AGE     SMOKING  YELLOW_FINGERS     ANXIETY  PEER_PRESSURE  \\\n",
       "count  309.000000  309.000000      309.000000  309.000000     309.000000   \n",
       "mean    62.673139    1.563107        1.569579    1.498382       1.501618   \n",
       "std      8.210301    0.496806        0.495938    0.500808       0.500808   \n",
       "min     21.000000    1.000000        1.000000    1.000000       1.000000   \n",
       "25%     57.000000    1.000000        1.000000    1.000000       1.000000   \n",
       "50%     62.000000    2.000000        2.000000    1.000000       2.000000   \n",
       "75%     69.000000    2.000000        2.000000    2.000000       2.000000   \n",
       "max     87.000000    2.000000        2.000000    2.000000       2.000000   \n",
       "\n",
       "       CHRONIC DISEASE    FATIGUE     ALLERGY     WHEEZING  ALCOHOL CONSUMING  \\\n",
       "count       309.000000  309.000000  309.000000  309.000000         309.000000   \n",
       "mean          1.504854    1.673139    1.556634    1.556634           1.556634   \n",
       "std           0.500787    0.469827    0.497588    0.497588           0.497588   \n",
       "min           1.000000    1.000000    1.000000    1.000000           1.000000   \n",
       "25%           1.000000    1.000000    1.000000    1.000000           1.000000   \n",
       "50%           2.000000    2.000000    2.000000    2.000000           2.000000   \n",
       "75%           2.000000    2.000000    2.000000    2.000000           2.000000   \n",
       "max           2.000000    2.000000    2.000000    2.000000           2.000000   \n",
       "\n",
       "         COUGHING  SHORTNESS OF BREATH  SWALLOWING DIFFICULTY  CHEST PAIN  \n",
       "count  309.000000           309.000000             309.000000  309.000000  \n",
       "mean     1.579288             1.640777               1.469256    1.556634  \n",
       "std      0.494474             0.480551               0.499863    0.497588  \n",
       "min      1.000000             1.000000               1.000000    1.000000  \n",
       "25%      1.000000             1.000000               1.000000    1.000000  \n",
       "50%      2.000000             2.000000               1.000000    2.000000  \n",
       "75%      2.000000             2.000000               2.000000    2.000000  \n",
       "max      2.000000             2.000000               2.000000    2.000000  "
      ]
     },
     "execution_count": 6,
     "metadata": {},
     "output_type": "execute_result"
    }
   ],
   "source": [
    "df.describe()"
   ]
  },
  {
   "cell_type": "code",
   "execution_count": 7,
   "id": "ae5155b3",
   "metadata": {},
   "outputs": [
    {
     "data": {
      "text/plain": [
       "GENDER                    2\n",
       "AGE                      39\n",
       "SMOKING                   2\n",
       "YELLOW_FINGERS            2\n",
       "ANXIETY                   2\n",
       "PEER_PRESSURE             2\n",
       "CHRONIC DISEASE           2\n",
       "FATIGUE                   2\n",
       "ALLERGY                   2\n",
       "WHEEZING                  2\n",
       "ALCOHOL CONSUMING         2\n",
       "COUGHING                  2\n",
       "SHORTNESS OF BREATH       2\n",
       "SWALLOWING DIFFICULTY     2\n",
       "CHEST PAIN                2\n",
       "LUNG_CANCER               2\n",
       "dtype: int64"
      ]
     },
     "execution_count": 7,
     "metadata": {},
     "output_type": "execute_result"
    }
   ],
   "source": [
    "df.nunique()"
   ]
  },
  {
   "cell_type": "code",
   "execution_count": 8,
   "id": "0af5de0b",
   "metadata": {},
   "outputs": [
    {
     "data": {
      "text/plain": [
       "GENDER                   False\n",
       "AGE                      False\n",
       "SMOKING                  False\n",
       "YELLOW_FINGERS           False\n",
       "ANXIETY                  False\n",
       "PEER_PRESSURE            False\n",
       "CHRONIC DISEASE          False\n",
       "FATIGUE                  False\n",
       "ALLERGY                  False\n",
       "WHEEZING                 False\n",
       "ALCOHOL CONSUMING        False\n",
       "COUGHING                 False\n",
       "SHORTNESS OF BREATH      False\n",
       "SWALLOWING DIFFICULTY    False\n",
       "CHEST PAIN               False\n",
       "LUNG_CANCER              False\n",
       "dtype: bool"
      ]
     },
     "execution_count": 8,
     "metadata": {},
     "output_type": "execute_result"
    }
   ],
   "source": [
    "df.isnull().any()\n",
    "# We see no null values, so we do not need to fill in the data or delete columns/rows"
   ]
  },
  {
   "cell_type": "code",
   "execution_count": 9,
   "id": "c3e0382d",
   "metadata": {},
   "outputs": [
    {
     "data": {
      "image/png": "[encoded data removed]",
      "text/plain": [
       "<Figure size 432x288 with 1 Axes>"
      ]
     },
     "metadata": {
      "needs_background": "light"
     },
     "output_type": "display_data"
    }
   ],
   "source": [
    "# Analyse the age distribution\n",
    "population_age = df['AGE']\n",
    "bins=[0,10,20,30,40,50,60,70,80,90]\n",
    "plt.hist(population_age, bins, histtype='bar', rwidth=0.8)\n",
    "plt.xlabel('Age groups')\n",
    "plt.ylabel('Number of people')\n",
    "plt.title(\"Age distribution\")\n",
    "plt.show()"
   ]
  },
  {
   "cell_type": "code",
   "execution_count": 10,
   "id": "221ca171",
   "metadata": {},
   "outputs": [
    {
     "data": {
      "text/plain": [
       "YES    270\n",
       "NO      39\n",
       "Name: LUNG_CANCER, dtype: int64"
      ]
     },
     "execution_count": 10,
     "metadata": {},
     "output_type": "execute_result"
    }
   ],
   "source": [
    "df['LUNG_CANCER'].value_counts()"
   ]
  },
  {
   "cell_type": "code",
   "execution_count": 11,
   "id": "250b0955",
   "metadata": {},
   "outputs": [
    {
     "data": {
      "text/plain": [
       "<AxesSubplot:xlabel='LUNG_CANCER', ylabel='count'>"
      ]
     },
     "execution_count": 11,
     "metadata": {},
     "output_type": "execute_result"
    },
    {
     "data": {
      "image/png": "[encoded data removed]",
      "text/plain": [
       "<Figure size 432x288 with 1 Axes>"
      ]
     },
     "metadata": {
      "needs_background": "light"
     },
     "output_type": "display_data"
    }
   ],
   "source": [
    "sns.countplot(x='LUNG_CANCER',hue='LUNG_CANCER',data=df)"
   ]
  },
  {
   "cell_type": "code",
   "execution_count": 12,
   "id": "77b7160c",
   "metadata": {},
   "outputs": [
    {
     "data": {
      "text/plain": [
       "<AxesSubplot:xlabel='GENDER', ylabel='count'>"
      ]
     },
     "execution_count": 12,
     "metadata": {},
     "output_type": "execute_result"
    },
    {
     "data": {
      "image/png": "[encoded data removed]",
      "text/plain": [
       "<Figure size 432x288 with 1 Axes>"
      ]
     },
     "metadata": {
      "needs_background": "light"
     },
     "output_type": "display_data"
    }
   ],
   "source": [
    "#lets see the distribution between males and females\n",
    "sns.countplot(x='GENDER',hue='LUNG_CANCER',data=df)"
   ]
  },
  {
   "cell_type": "code",
   "execution_count": 13,
   "id": "49ab473b",
   "metadata": {},
   "outputs": [
    {
     "name": "stdout",
     "output_type": "stream",
     "text": [
      "Amount of Females with Cancer: 125\n",
      "Amount of Males with Cancer: 145\n",
      "Amount of Females without Cancer: 22\n",
      "Amount of Males without Cancer: 17\n",
      "Total amount of cases: 309\n"
     ]
    }
   ],
   "source": [
    "#Lets look at it in a piechart form\n",
    "\n",
    "#prepare bar plot to see distribution of gender and lung cancer\n",
    "positive = df['LUNG_CANCER'] == \"YES\"\n",
    "negative = df['LUNG_CANCER'] == \"NO\" \n",
    "\n",
    "positive_counts = df[positive]\n",
    "negative_counts = df[negative]\n",
    "\n",
    "#Filter dataset on males with lung cancer  \n",
    "positive_counts_male = positive_counts['GENDER'] == 'M' \n",
    "pcm = positive_counts[positive_counts_male]\n",
    "\n",
    "#Filter dataset on females with lung cancer\n",
    "positive_counts_female = positive_counts['GENDER'] == 'F'\n",
    "pcf = positive_counts[positive_counts_female]\n",
    "\n",
    "#Filter dataset on males without lung cancer\n",
    "negative_counts_male = negative_counts['GENDER'] == 'M'\n",
    "ncm = negative_counts[negative_counts_male]\n",
    "\n",
    "#Filter dataset on females without lung cancer\n",
    "negative_counts_female = negative_counts[\"GENDER\"] == \"F\"\n",
    "ncf = negative_counts[negative_counts_female]\n",
    "\n",
    "\n",
    "amount_of_females_with_cancer = pcf['LUNG_CANCER'].value_counts()\n",
    "amount_of_males_with_cancer = pcm['LUNG_CANCER'].value_counts()\n",
    "amount_of_females_without_cancer = ncf['LUNG_CANCER'].value_counts()\n",
    "amount_of_males_without_cancer = ncm['LUNG_CANCER'].value_counts()\n",
    "\n",
    "print('Amount of Females with Cancer: {}'.format(amount_of_females_with_cancer[0]))\n",
    "print('Amount of Males with Cancer: {}'.format(amount_of_males_with_cancer[0]))\n",
    "print('Amount of Females without Cancer: {}'.format(amount_of_females_without_cancer[0]))\n",
    "print('Amount of Males without Cancer: {}'.format(amount_of_males_without_cancer[0]))\n",
    "print('Total amount of cases: {}'.format(amount_of_females_with_cancer[0] + amount_of_males_with_cancer[0] \n",
    "                                        + amount_of_females_without_cancer[0] + amount_of_males_without_cancer[0]))"
   ]
  },
  {
   "cell_type": "code",
   "execution_count": 14,
   "id": "1cd86365",
   "metadata": {},
   "outputs": [
    {
     "data": {
      "image/png": "[encoded data removed]",
      "text/plain": [
       "<Figure size 432x288 with 1 Axes>"
      ]
     },
     "metadata": {},
     "output_type": "display_data"
    }
   ],
   "source": [
    "#define data\n",
    "data = [amount_of_females_with_cancer[0], amount_of_males_with_cancer[0], \n",
    "        amount_of_females_without_cancer[0], amount_of_males_without_cancer[0]]\n",
    "labels = ['Females With Cancer', 'Males With Cancer', 'Females Without Cancer', 'Males Without Cancer']\n",
    "\n",
    "#define Seaborn color palette to use\n",
    "colors = sns.color_palette('pastel')[0:4]\n",
    "\n",
    "#create pie chart\n",
    "plt.pie(data, labels = labels, colors = colors, autopct='%.0f%%')\n",
    "plt.show()"
   ]
  },
  {
   "cell_type": "code",
   "execution_count": 15,
   "id": "1143c598",
   "metadata": {},
   "outputs": [
    {
     "name": "stderr",
     "output_type": "stream",
     "text": [
      "C:\\Python38\\lib\\site-packages\\seaborn\\distributions.py:2557: FutureWarning: `distplot` is a deprecated function and will be removed in a future version. Please adapt your code to use either `displot` (a figure-level function with similar flexibility) or `histplot` (an axes-level function for histograms).\n",
      "  warnings.warn(msg, FutureWarning)\n",
      "C:\\Python38\\lib\\site-packages\\seaborn\\distributions.py:2557: FutureWarning: `distplot` is a deprecated function and will be removed in a future version. Please adapt your code to use either `displot` (a figure-level function with similar flexibility) or `histplot` (an axes-level function for histograms).\n",
      "  warnings.warn(msg, FutureWarning)\n",
      "C:\\Python38\\lib\\site-packages\\seaborn\\distributions.py:2557: FutureWarning: `distplot` is a deprecated function and will be removed in a future version. Please adapt your code to use either `displot` (a figure-level function with similar flexibility) or `histplot` (an axes-level function for histograms).\n",
      "  warnings.warn(msg, FutureWarning)\n",
      "C:\\Python38\\lib\\site-packages\\seaborn\\distributions.py:2557: FutureWarning: `distplot` is a deprecated function and will be removed in a future version. Please adapt your code to use either `displot` (a figure-level function with similar flexibility) or `histplot` (an axes-level function for histograms).\n",
      "  warnings.warn(msg, FutureWarning)\n",
      "C:\\Python38\\lib\\site-packages\\seaborn\\distributions.py:2557: FutureWarning: `distplot` is a deprecated function and will be removed in a future version. Please adapt your code to use either `displot` (a figure-level function with similar flexibility) or `histplot` (an axes-level function for histograms).\n",
      "  warnings.warn(msg, FutureWarning)\n",
      "C:\\Python38\\lib\\site-packages\\seaborn\\distributions.py:2557: FutureWarning: `distplot` is a deprecated function and will be removed in a future version. Please adapt your code to use either `displot` (a figure-level function with similar flexibility) or `histplot` (an axes-level function for histograms).\n",
      "  warnings.warn(msg, FutureWarning)\n",
      "C:\\Python38\\lib\\site-packages\\seaborn\\distributions.py:2557: FutureWarning: `distplot` is a deprecated function and will be removed in a future version. Please adapt your code to use either `displot` (a figure-level function with similar flexibility) or `histplot` (an axes-level function for histograms).\n",
      "  warnings.warn(msg, FutureWarning)\n",
      "C:\\Python38\\lib\\site-packages\\seaborn\\distributions.py:2557: FutureWarning: `distplot` is a deprecated function and will be removed in a future version. Please adapt your code to use either `displot` (a figure-level function with similar flexibility) or `histplot` (an axes-level function for histograms).\n",
      "  warnings.warn(msg, FutureWarning)\n",
      "C:\\Python38\\lib\\site-packages\\seaborn\\distributions.py:2557: FutureWarning: `distplot` is a deprecated function and will be removed in a future version. Please adapt your code to use either `displot` (a figure-level function with similar flexibility) or `histplot` (an axes-level function for histograms).\n",
      "  warnings.warn(msg, FutureWarning)\n"
     ]
    },
    {
     "data": {
      "image/png": "[encoded data removed]",
      "text/plain": [
       "<Figure size 1440x1800 with 9 Axes>"
      ]
     },
     "metadata": {
      "needs_background": "light"
     },
     "output_type": "display_data"
    }
   ],
   "source": [
    "# Alright, we see that more male patients have cancer, but how does the rest of the dataset look like?\n",
    "other_columns = df.copy()\n",
    "other_columns = other_columns.drop([\"GENDER\", \"AGE\"], axis=1)\n",
    "\n",
    "plt.figure(figsize = (20, 25))\n",
    "plotnumber = 1\n",
    "for column in other_columns:\n",
    "    if plotnumber <= 9:\n",
    "        ax = plt.subplot(3, 3, plotnumber)\n",
    "        sns.distplot(other_columns[column])\n",
    "        plt.xlabel(column, fontsize = 15)\n",
    "        \n",
    "    plotnumber += 1\n",
    "plt.show()"
   ]
  },
  {
   "cell_type": "markdown",
   "id": "635ecacc",
   "metadata": {},
   "source": [
    "# Dividing input and output column\n",
    "\n",
    "As the goal of the eventual model is to predict if someone has lung cancer, and we do not want to \n",
    "affect the output values, we split the data now"
   ]
  },
  {
   "cell_type": "code",
   "execution_count": 16,
   "id": "ec9be94d",
   "metadata": {},
   "outputs": [],
   "source": [
    "secondDf = df.copy()\n",
    "\n",
    "# save the ouput column in variable y\n",
    "Y = secondDf['LUNG_CANCER']\n",
    "\n",
    "# save the rest of the data set in variable X\n",
    "X = secondDf\n",
    "X = X.drop('LUNG_CANCER', axis=1)"
   ]
  },
  {
   "cell_type": "code",
   "execution_count": 17,
   "id": "4e4114e2",
   "metadata": {},
   "outputs": [
    {
     "name": "stdout",
     "output_type": "stream",
     "text": [
      "<class 'pandas.core.frame.DataFrame'>\n",
      "RangeIndex: 309 entries, 0 to 308\n",
      "Data columns (total 15 columns):\n",
      " #   Column                 Non-Null Count  Dtype \n",
      "---  ------                 --------------  ----- \n",
      " 0   GENDER                 309 non-null    object\n",
      " 1   AGE                    309 non-null    int64 \n",
      " 2   SMOKING                309 non-null    int64 \n",
      " 3   YELLOW_FINGERS         309 non-null    int64 \n",
      " 4   ANXIETY                309 non-null    int64 \n",
      " 5   PEER_PRESSURE          309 non-null    int64 \n",
      " 6   CHRONIC DISEASE        309 non-null    int64 \n",
      " 7   FATIGUE                309 non-null    int64 \n",
      " 8   ALLERGY                309 non-null    int64 \n",
      " 9   WHEEZING               309 non-null    int64 \n",
      " 10  ALCOHOL CONSUMING      309 non-null    int64 \n",
      " 11  COUGHING               309 non-null    int64 \n",
      " 12  SHORTNESS OF BREATH    309 non-null    int64 \n",
      " 13  SWALLOWING DIFFICULTY  309 non-null    int64 \n",
      " 14  CHEST PAIN             309 non-null    int64 \n",
      "dtypes: int64(14), object(1)\n",
      "memory usage: 36.3+ KB\n"
     ]
    }
   ],
   "source": [
    "X.info()"
   ]
  },
  {
   "cell_type": "markdown",
   "id": "8c53a9e1",
   "metadata": {},
   "source": [
    "# Prepare the data"
   ]
  },
  {
   "cell_type": "code",
   "execution_count": 18,
   "id": "5437a2b9",
   "metadata": {},
   "outputs": [
    {
     "data": {
      "text/plain": [
       "0      YES\n",
       "1      YES\n",
       "2       NO\n",
       "3       NO\n",
       "4       NO\n",
       "      ... \n",
       "304    YES\n",
       "305    YES\n",
       "306    YES\n",
       "307    YES\n",
       "308    YES\n",
       "Name: LUNG_CANCER, Length: 309, dtype: object"
      ]
     },
     "execution_count": 18,
     "metadata": {},
     "output_type": "execute_result"
    }
   ],
   "source": [
    "from sklearn.preprocessing import LabelEncoder\n",
    "Y"
   ]
  },
  {
   "cell_type": "code",
   "execution_count": 19,
   "id": "af50d2c4",
   "metadata": {},
   "outputs": [
    {
     "data": {
      "text/plain": [
       "array([1, 1, 0, 0, 0, 1, 1, 1, 0, 1, 1, 1, 0, 1, 0, 1, 1, 1, 1, 0, 1, 1,\n",
       "       0, 1, 1, 1, 1, 0, 1, 0, 0, 1, 0, 1, 0, 1, 1, 0, 1, 1, 1, 1, 1, 1,\n",
       "       1, 1, 1, 1, 1, 0, 1, 1, 1, 1, 1, 1, 1, 1, 1, 1, 1, 0, 1, 1, 1, 1,\n",
       "       1, 1, 1, 1, 1, 1, 1, 1, 1, 1, 1, 1, 1, 1, 0, 1, 1, 1, 1, 1, 1, 1,\n",
       "       1, 1, 1, 1, 1, 1, 1, 1, 1, 1, 1, 1, 1, 1, 1, 1, 1, 1, 1, 1, 1, 1,\n",
       "       1, 1, 1, 1, 1, 1, 1, 1, 1, 1, 1, 1, 1, 1, 1, 1, 1, 1, 1, 0, 1, 1,\n",
       "       1, 1, 1, 1, 1, 1, 1, 1, 1, 1, 1, 1, 1, 1, 1, 1, 1, 1, 1, 1, 1, 0,\n",
       "       0, 1, 0, 0, 1, 0, 1, 1, 1, 1, 1, 1, 1, 1, 1, 1, 1, 0, 1, 1, 1, 1,\n",
       "       1, 1, 1, 1, 1, 1, 1, 0, 1, 1, 1, 1, 1, 1, 1, 1, 1, 1, 1, 1, 1, 1,\n",
       "       1, 1, 1, 1, 1, 1, 1, 1, 1, 0, 1, 1, 1, 1, 1, 1, 1, 0, 1, 1, 1, 1,\n",
       "       1, 0, 1, 1, 1, 1, 1, 1, 1, 1, 1, 1, 1, 1, 1, 1, 1, 1, 1, 1, 1, 1,\n",
       "       1, 1, 1, 0, 1, 1, 1, 0, 1, 1, 1, 1, 1, 1, 1, 1, 1, 1, 1, 1, 0, 1,\n",
       "       1, 1, 0, 1, 1, 1, 0, 1, 0, 1, 1, 1, 1, 0, 1, 1, 0, 0, 0, 1, 1, 1,\n",
       "       0, 1, 1, 1, 1, 1, 1, 1, 1, 1, 1, 1, 1, 1, 1, 1, 1, 1, 1, 1, 1, 1,\n",
       "       1])"
      ]
     },
     "execution_count": 19,
     "metadata": {},
     "output_type": "execute_result"
    }
   ],
   "source": [
    "# Encode the output column\n",
    "target_var = Y.copy()\n",
    "\n",
    "label_encoder = LabelEncoder()\n",
    "target_var = label_encoder.fit_transform(target_var)\n",
    "target_var"
   ]
  },
  {
   "cell_type": "code",
   "execution_count": 20,
   "id": "669661e8",
   "metadata": {},
   "outputs": [],
   "source": [
    "X_train, X_valid, y_train, y_valid = train_test_split(X, target_var, random_state=1)"
   ]
  },
  {
   "cell_type": "code",
   "execution_count": 21,
   "id": "8923c2ab",
   "metadata": {},
   "outputs": [
    {
     "data": {
      "text/html": [
       "<div>\n",
       "<style scoped>\n",
       "    .dataframe tbody tr th:only-of-type {\n",
       "        vertical-align: middle;\n",
       "    }\n",
       "\n",
       "    .dataframe tbody tr th {\n",
       "        vertical-align: top;\n",
       "    }\n",
       "\n",
       "    .dataframe thead th {\n",
       "        text-align: right;\n",
       "    }\n",
       "</style>\n",
       "<table border=\"1\" class=\"dataframe\">\n",
       "  <thead>\n",
       "    <tr style=\"text-align: right;\">\n",
       "      <th></th>\n",
       "      <th>GENDER</th>\n",
       "      <th>AGE</th>\n",
       "      <th>SMOKING</th>\n",
       "      <th>YELLOW_FINGERS</th>\n",
       "      <th>ANXIETY</th>\n",
       "      <th>PEER_PRESSURE</th>\n",
       "      <th>CHRONIC DISEASE</th>\n",
       "      <th>FATIGUE</th>\n",
       "      <th>ALLERGY</th>\n",
       "      <th>WHEEZING</th>\n",
       "      <th>ALCOHOL CONSUMING</th>\n",
       "      <th>COUGHING</th>\n",
       "      <th>SHORTNESS OF BREATH</th>\n",
       "      <th>SWALLOWING DIFFICULTY</th>\n",
       "      <th>CHEST PAIN</th>\n",
       "    </tr>\n",
       "  </thead>\n",
       "  <tbody>\n",
       "    <tr>\n",
       "      <th>291</th>\n",
       "      <td>M</td>\n",
       "      <td>71</td>\n",
       "      <td>2</td>\n",
       "      <td>2</td>\n",
       "      <td>2</td>\n",
       "      <td>1</td>\n",
       "      <td>2</td>\n",
       "      <td>1</td>\n",
       "      <td>2</td>\n",
       "      <td>2</td>\n",
       "      <td>2</td>\n",
       "      <td>2</td>\n",
       "      <td>1</td>\n",
       "      <td>2</td>\n",
       "      <td>2</td>\n",
       "    </tr>\n",
       "    <tr>\n",
       "      <th>17</th>\n",
       "      <td>M</td>\n",
       "      <td>57</td>\n",
       "      <td>2</td>\n",
       "      <td>2</td>\n",
       "      <td>2</td>\n",
       "      <td>2</td>\n",
       "      <td>2</td>\n",
       "      <td>1</td>\n",
       "      <td>1</td>\n",
       "      <td>1</td>\n",
       "      <td>2</td>\n",
       "      <td>1</td>\n",
       "      <td>1</td>\n",
       "      <td>2</td>\n",
       "      <td>2</td>\n",
       "    </tr>\n",
       "    <tr>\n",
       "      <th>110</th>\n",
       "      <td>M</td>\n",
       "      <td>58</td>\n",
       "      <td>1</td>\n",
       "      <td>2</td>\n",
       "      <td>2</td>\n",
       "      <td>1</td>\n",
       "      <td>1</td>\n",
       "      <td>2</td>\n",
       "      <td>1</td>\n",
       "      <td>2</td>\n",
       "      <td>2</td>\n",
       "      <td>2</td>\n",
       "      <td>2</td>\n",
       "      <td>2</td>\n",
       "      <td>2</td>\n",
       "    </tr>\n",
       "    <tr>\n",
       "      <th>228</th>\n",
       "      <td>F</td>\n",
       "      <td>56</td>\n",
       "      <td>1</td>\n",
       "      <td>2</td>\n",
       "      <td>1</td>\n",
       "      <td>2</td>\n",
       "      <td>1</td>\n",
       "      <td>2</td>\n",
       "      <td>1</td>\n",
       "      <td>1</td>\n",
       "      <td>1</td>\n",
       "      <td>2</td>\n",
       "      <td>2</td>\n",
       "      <td>1</td>\n",
       "      <td>2</td>\n",
       "    </tr>\n",
       "    <tr>\n",
       "      <th>125</th>\n",
       "      <td>F</td>\n",
       "      <td>53</td>\n",
       "      <td>1</td>\n",
       "      <td>2</td>\n",
       "      <td>2</td>\n",
       "      <td>2</td>\n",
       "      <td>2</td>\n",
       "      <td>2</td>\n",
       "      <td>2</td>\n",
       "      <td>1</td>\n",
       "      <td>1</td>\n",
       "      <td>2</td>\n",
       "      <td>2</td>\n",
       "      <td>1</td>\n",
       "      <td>1</td>\n",
       "    </tr>\n",
       "    <tr>\n",
       "      <th>...</th>\n",
       "      <td>...</td>\n",
       "      <td>...</td>\n",
       "      <td>...</td>\n",
       "      <td>...</td>\n",
       "      <td>...</td>\n",
       "      <td>...</td>\n",
       "      <td>...</td>\n",
       "      <td>...</td>\n",
       "      <td>...</td>\n",
       "      <td>...</td>\n",
       "      <td>...</td>\n",
       "      <td>...</td>\n",
       "      <td>...</td>\n",
       "      <td>...</td>\n",
       "      <td>...</td>\n",
       "    </tr>\n",
       "    <tr>\n",
       "      <th>203</th>\n",
       "      <td>F</td>\n",
       "      <td>65</td>\n",
       "      <td>1</td>\n",
       "      <td>2</td>\n",
       "      <td>2</td>\n",
       "      <td>2</td>\n",
       "      <td>2</td>\n",
       "      <td>1</td>\n",
       "      <td>2</td>\n",
       "      <td>2</td>\n",
       "      <td>2</td>\n",
       "      <td>2</td>\n",
       "      <td>2</td>\n",
       "      <td>2</td>\n",
       "      <td>1</td>\n",
       "    </tr>\n",
       "    <tr>\n",
       "      <th>255</th>\n",
       "      <td>F</td>\n",
       "      <td>77</td>\n",
       "      <td>1</td>\n",
       "      <td>1</td>\n",
       "      <td>1</td>\n",
       "      <td>2</td>\n",
       "      <td>2</td>\n",
       "      <td>2</td>\n",
       "      <td>1</td>\n",
       "      <td>1</td>\n",
       "      <td>2</td>\n",
       "      <td>2</td>\n",
       "      <td>2</td>\n",
       "      <td>2</td>\n",
       "      <td>1</td>\n",
       "    </tr>\n",
       "    <tr>\n",
       "      <th>72</th>\n",
       "      <td>M</td>\n",
       "      <td>67</td>\n",
       "      <td>1</td>\n",
       "      <td>1</td>\n",
       "      <td>1</td>\n",
       "      <td>1</td>\n",
       "      <td>2</td>\n",
       "      <td>2</td>\n",
       "      <td>2</td>\n",
       "      <td>2</td>\n",
       "      <td>2</td>\n",
       "      <td>2</td>\n",
       "      <td>2</td>\n",
       "      <td>1</td>\n",
       "      <td>2</td>\n",
       "    </tr>\n",
       "    <tr>\n",
       "      <th>235</th>\n",
       "      <td>F</td>\n",
       "      <td>64</td>\n",
       "      <td>1</td>\n",
       "      <td>1</td>\n",
       "      <td>2</td>\n",
       "      <td>1</td>\n",
       "      <td>2</td>\n",
       "      <td>1</td>\n",
       "      <td>2</td>\n",
       "      <td>2</td>\n",
       "      <td>2</td>\n",
       "      <td>1</td>\n",
       "      <td>1</td>\n",
       "      <td>2</td>\n",
       "      <td>1</td>\n",
       "    </tr>\n",
       "    <tr>\n",
       "      <th>37</th>\n",
       "      <td>F</td>\n",
       "      <td>56</td>\n",
       "      <td>1</td>\n",
       "      <td>1</td>\n",
       "      <td>1</td>\n",
       "      <td>1</td>\n",
       "      <td>2</td>\n",
       "      <td>1</td>\n",
       "      <td>1</td>\n",
       "      <td>2</td>\n",
       "      <td>1</td>\n",
       "      <td>1</td>\n",
       "      <td>2</td>\n",
       "      <td>2</td>\n",
       "      <td>1</td>\n",
       "    </tr>\n",
       "  </tbody>\n",
       "</table>\n",
       "<p>231 rows × 15 columns</p>\n",
       "</div>"
      ],
      "text/plain": [
       "    GENDER  AGE  SMOKING  YELLOW_FINGERS  ANXIETY  PEER_PRESSURE  \\\n",
       "291      M   71        2               2        2              1   \n",
       "17       M   57        2               2        2              2   \n",
       "110      M   58        1               2        2              1   \n",
       "228      F   56        1               2        1              2   \n",
       "125      F   53        1               2        2              2   \n",
       "..     ...  ...      ...             ...      ...            ...   \n",
       "203      F   65        1               2        2              2   \n",
       "255      F   77        1               1        1              2   \n",
       "72       M   67        1               1        1              1   \n",
       "235      F   64        1               1        2              1   \n",
       "37       F   56        1               1        1              1   \n",
       "\n",
       "     CHRONIC DISEASE  FATIGUE   ALLERGY   WHEEZING  ALCOHOL CONSUMING  \\\n",
       "291                2         1         2         2                  2   \n",
       "17                 2         1         1         1                  2   \n",
       "110                1         2         1         2                  2   \n",
       "228                1         2         1         1                  1   \n",
       "125                2         2         2         1                  1   \n",
       "..               ...       ...       ...       ...                ...   \n",
       "203                2         1         2         2                  2   \n",
       "255                2         2         1         1                  2   \n",
       "72                 2         2         2         2                  2   \n",
       "235                2         1         2         2                  2   \n",
       "37                 2         1         1         2                  1   \n",
       "\n",
       "     COUGHING  SHORTNESS OF BREATH  SWALLOWING DIFFICULTY  CHEST PAIN  \n",
       "291         2                    1                      2           2  \n",
       "17          1                    1                      2           2  \n",
       "110         2                    2                      2           2  \n",
       "228         2                    2                      1           2  \n",
       "125         2                    2                      1           1  \n",
       "..        ...                  ...                    ...         ...  \n",
       "203         2                    2                      2           1  \n",
       "255         2                    2                      2           1  \n",
       "72          2                    2                      1           2  \n",
       "235         1                    1                      2           1  \n",
       "37          1                    2                      2           1  \n",
       "\n",
       "[231 rows x 15 columns]"
      ]
     },
     "execution_count": 21,
     "metadata": {},
     "output_type": "execute_result"
    }
   ],
   "source": [
    "X_train"
   ]
  },
  {
   "cell_type": "code",
   "execution_count": 22,
   "id": "bc780001",
   "metadata": {},
   "outputs": [
    {
     "name": "stdout",
     "output_type": "stream",
     "text": [
      "X_train.shape: (231, 15)\n",
      "X_valid.shape: (78, 15)\n",
      "Y_train.shape: (231,)\n",
      "Y_valid.shape: (78,)\n"
     ]
    }
   ],
   "source": [
    "print(\"X_train.shape: {}\".format(X_train.shape))\n",
    "print(\"X_valid.shape: {}\".format(X_valid.shape))\n",
    "print(\"Y_train.shape: {}\".format(y_train.shape))\n",
    "print(\"Y_valid.shape: {}\".format(y_valid.shape))"
   ]
  },
  {
   "cell_type": "code",
   "execution_count": 23,
   "id": "0932f314",
   "metadata": {},
   "outputs": [
    {
     "data": {
      "text/plain": [
       "['GENDER']"
      ]
     },
     "execution_count": 23,
     "metadata": {},
     "output_type": "execute_result"
    }
   ],
   "source": [
    "# Filter on all categorical columns in the input set\n",
    "s = (X.dtypes == 'object')\n",
    "X_categorical = list(s[s].index)\n",
    "X_categorical"
   ]
  },
  {
   "cell_type": "code",
   "execution_count": 24,
   "id": "bf6e6b08",
   "metadata": {},
   "outputs": [
    {
     "data": {
      "text/html": [
       "<div>\n",
       "<style scoped>\n",
       "    .dataframe tbody tr th:only-of-type {\n",
       "        vertical-align: middle;\n",
       "    }\n",
       "\n",
       "    .dataframe tbody tr th {\n",
       "        vertical-align: top;\n",
       "    }\n",
       "\n",
       "    .dataframe thead th {\n",
       "        text-align: right;\n",
       "    }\n",
       "</style>\n",
       "<table border=\"1\" class=\"dataframe\">\n",
       "  <thead>\n",
       "    <tr style=\"text-align: right;\">\n",
       "      <th></th>\n",
       "      <th>GENDER</th>\n",
       "      <th>AGE</th>\n",
       "      <th>SMOKING</th>\n",
       "      <th>YELLOW_FINGERS</th>\n",
       "      <th>ANXIETY</th>\n",
       "      <th>PEER_PRESSURE</th>\n",
       "      <th>CHRONIC DISEASE</th>\n",
       "      <th>FATIGUE</th>\n",
       "      <th>ALLERGY</th>\n",
       "      <th>WHEEZING</th>\n",
       "      <th>ALCOHOL CONSUMING</th>\n",
       "      <th>COUGHING</th>\n",
       "      <th>SHORTNESS OF BREATH</th>\n",
       "      <th>SWALLOWING DIFFICULTY</th>\n",
       "      <th>CHEST PAIN</th>\n",
       "    </tr>\n",
       "  </thead>\n",
       "  <tbody>\n",
       "    <tr>\n",
       "      <th>291</th>\n",
       "      <td>M</td>\n",
       "      <td>71</td>\n",
       "      <td>2</td>\n",
       "      <td>2</td>\n",
       "      <td>2</td>\n",
       "      <td>1</td>\n",
       "      <td>2</td>\n",
       "      <td>1</td>\n",
       "      <td>2</td>\n",
       "      <td>2</td>\n",
       "      <td>2</td>\n",
       "      <td>2</td>\n",
       "      <td>1</td>\n",
       "      <td>2</td>\n",
       "      <td>2</td>\n",
       "    </tr>\n",
       "    <tr>\n",
       "      <th>17</th>\n",
       "      <td>M</td>\n",
       "      <td>57</td>\n",
       "      <td>2</td>\n",
       "      <td>2</td>\n",
       "      <td>2</td>\n",
       "      <td>2</td>\n",
       "      <td>2</td>\n",
       "      <td>1</td>\n",
       "      <td>1</td>\n",
       "      <td>1</td>\n",
       "      <td>2</td>\n",
       "      <td>1</td>\n",
       "      <td>1</td>\n",
       "      <td>2</td>\n",
       "      <td>2</td>\n",
       "    </tr>\n",
       "    <tr>\n",
       "      <th>110</th>\n",
       "      <td>M</td>\n",
       "      <td>58</td>\n",
       "      <td>1</td>\n",
       "      <td>2</td>\n",
       "      <td>2</td>\n",
       "      <td>1</td>\n",
       "      <td>1</td>\n",
       "      <td>2</td>\n",
       "      <td>1</td>\n",
       "      <td>2</td>\n",
       "      <td>2</td>\n",
       "      <td>2</td>\n",
       "      <td>2</td>\n",
       "      <td>2</td>\n",
       "      <td>2</td>\n",
       "    </tr>\n",
       "    <tr>\n",
       "      <th>228</th>\n",
       "      <td>F</td>\n",
       "      <td>56</td>\n",
       "      <td>1</td>\n",
       "      <td>2</td>\n",
       "      <td>1</td>\n",
       "      <td>2</td>\n",
       "      <td>1</td>\n",
       "      <td>2</td>\n",
       "      <td>1</td>\n",
       "      <td>1</td>\n",
       "      <td>1</td>\n",
       "      <td>2</td>\n",
       "      <td>2</td>\n",
       "      <td>1</td>\n",
       "      <td>2</td>\n",
       "    </tr>\n",
       "    <tr>\n",
       "      <th>125</th>\n",
       "      <td>F</td>\n",
       "      <td>53</td>\n",
       "      <td>1</td>\n",
       "      <td>2</td>\n",
       "      <td>2</td>\n",
       "      <td>2</td>\n",
       "      <td>2</td>\n",
       "      <td>2</td>\n",
       "      <td>2</td>\n",
       "      <td>1</td>\n",
       "      <td>1</td>\n",
       "      <td>2</td>\n",
       "      <td>2</td>\n",
       "      <td>1</td>\n",
       "      <td>1</td>\n",
       "    </tr>\n",
       "    <tr>\n",
       "      <th>...</th>\n",
       "      <td>...</td>\n",
       "      <td>...</td>\n",
       "      <td>...</td>\n",
       "      <td>...</td>\n",
       "      <td>...</td>\n",
       "      <td>...</td>\n",
       "      <td>...</td>\n",
       "      <td>...</td>\n",
       "      <td>...</td>\n",
       "      <td>...</td>\n",
       "      <td>...</td>\n",
       "      <td>...</td>\n",
       "      <td>...</td>\n",
       "      <td>...</td>\n",
       "      <td>...</td>\n",
       "    </tr>\n",
       "    <tr>\n",
       "      <th>203</th>\n",
       "      <td>F</td>\n",
       "      <td>65</td>\n",
       "      <td>1</td>\n",
       "      <td>2</td>\n",
       "      <td>2</td>\n",
       "      <td>2</td>\n",
       "      <td>2</td>\n",
       "      <td>1</td>\n",
       "      <td>2</td>\n",
       "      <td>2</td>\n",
       "      <td>2</td>\n",
       "      <td>2</td>\n",
       "      <td>2</td>\n",
       "      <td>2</td>\n",
       "      <td>1</td>\n",
       "    </tr>\n",
       "    <tr>\n",
       "      <th>255</th>\n",
       "      <td>F</td>\n",
       "      <td>77</td>\n",
       "      <td>1</td>\n",
       "      <td>1</td>\n",
       "      <td>1</td>\n",
       "      <td>2</td>\n",
       "      <td>2</td>\n",
       "      <td>2</td>\n",
       "      <td>1</td>\n",
       "      <td>1</td>\n",
       "      <td>2</td>\n",
       "      <td>2</td>\n",
       "      <td>2</td>\n",
       "      <td>2</td>\n",
       "      <td>1</td>\n",
       "    </tr>\n",
       "    <tr>\n",
       "      <th>72</th>\n",
       "      <td>M</td>\n",
       "      <td>67</td>\n",
       "      <td>1</td>\n",
       "      <td>1</td>\n",
       "      <td>1</td>\n",
       "      <td>1</td>\n",
       "      <td>2</td>\n",
       "      <td>2</td>\n",
       "      <td>2</td>\n",
       "      <td>2</td>\n",
       "      <td>2</td>\n",
       "      <td>2</td>\n",
       "      <td>2</td>\n",
       "      <td>1</td>\n",
       "      <td>2</td>\n",
       "    </tr>\n",
       "    <tr>\n",
       "      <th>235</th>\n",
       "      <td>F</td>\n",
       "      <td>64</td>\n",
       "      <td>1</td>\n",
       "      <td>1</td>\n",
       "      <td>2</td>\n",
       "      <td>1</td>\n",
       "      <td>2</td>\n",
       "      <td>1</td>\n",
       "      <td>2</td>\n",
       "      <td>2</td>\n",
       "      <td>2</td>\n",
       "      <td>1</td>\n",
       "      <td>1</td>\n",
       "      <td>2</td>\n",
       "      <td>1</td>\n",
       "    </tr>\n",
       "    <tr>\n",
       "      <th>37</th>\n",
       "      <td>F</td>\n",
       "      <td>56</td>\n",
       "      <td>1</td>\n",
       "      <td>1</td>\n",
       "      <td>1</td>\n",
       "      <td>1</td>\n",
       "      <td>2</td>\n",
       "      <td>1</td>\n",
       "      <td>1</td>\n",
       "      <td>2</td>\n",
       "      <td>1</td>\n",
       "      <td>1</td>\n",
       "      <td>2</td>\n",
       "      <td>2</td>\n",
       "      <td>1</td>\n",
       "    </tr>\n",
       "  </tbody>\n",
       "</table>\n",
       "<p>231 rows × 15 columns</p>\n",
       "</div>"
      ],
      "text/plain": [
       "    GENDER  AGE  SMOKING  YELLOW_FINGERS  ANXIETY  PEER_PRESSURE  \\\n",
       "291      M   71        2               2        2              1   \n",
       "17       M   57        2               2        2              2   \n",
       "110      M   58        1               2        2              1   \n",
       "228      F   56        1               2        1              2   \n",
       "125      F   53        1               2        2              2   \n",
       "..     ...  ...      ...             ...      ...            ...   \n",
       "203      F   65        1               2        2              2   \n",
       "255      F   77        1               1        1              2   \n",
       "72       M   67        1               1        1              1   \n",
       "235      F   64        1               1        2              1   \n",
       "37       F   56        1               1        1              1   \n",
       "\n",
       "     CHRONIC DISEASE  FATIGUE   ALLERGY   WHEEZING  ALCOHOL CONSUMING  \\\n",
       "291                2         1         2         2                  2   \n",
       "17                 2         1         1         1                  2   \n",
       "110                1         2         1         2                  2   \n",
       "228                1         2         1         1                  1   \n",
       "125                2         2         2         1                  1   \n",
       "..               ...       ...       ...       ...                ...   \n",
       "203                2         1         2         2                  2   \n",
       "255                2         2         1         1                  2   \n",
       "72                 2         2         2         2                  2   \n",
       "235                2         1         2         2                  2   \n",
       "37                 2         1         1         2                  1   \n",
       "\n",
       "     COUGHING  SHORTNESS OF BREATH  SWALLOWING DIFFICULTY  CHEST PAIN  \n",
       "291         2                    1                      2           2  \n",
       "17          1                    1                      2           2  \n",
       "110         2                    2                      2           2  \n",
       "228         2                    2                      1           2  \n",
       "125         2                    2                      1           1  \n",
       "..        ...                  ...                    ...         ...  \n",
       "203         2                    2                      2           1  \n",
       "255         2                    2                      2           1  \n",
       "72          2                    2                      1           2  \n",
       "235         1                    1                      2           1  \n",
       "37          1                    2                      2           1  \n",
       "\n",
       "[231 rows x 15 columns]"
      ]
     },
     "execution_count": 24,
     "metadata": {},
     "output_type": "execute_result"
    }
   ],
   "source": [
    "X_train"
   ]
  },
  {
   "cell_type": "code",
   "execution_count": 25,
   "id": "c02510e6",
   "metadata": {},
   "outputs": [],
   "source": [
    "# We see that Gender is of dtype object and the values are categorical,\n",
    "# so we will have to change that to numerical\n",
    "\n",
    "# We apply one-hor encoder to each column with categorical data\n",
    "OH_encoder = OneHotEncoder(handle_unknown='ignore', sparse=False)\n",
    "OH_cols_train = pd.DataFrame(OH_encoder.fit_transform(X_train[X_categorical]))\n",
    "OH_cols_valid = pd.DataFrame(OH_encoder.transform(X_valid[X_categorical]))\n",
    "\n",
    "# One-hot encoding removed index; here we put it back\n",
    "OH_cols_train.index = X_train.index\n",
    "OH_cols_valid.index = X_valid.index\n",
    "\n",
    "# Once encoded, we need to remove the categorical column from the original dataframe\n",
    "num_X_train = X_train.drop(X_categorical, axis=1)\n",
    "num_X_valid = X_valid.drop(X_categorical, axis=1)\n",
    "\n",
    "# combine the encoded column with the altered dataframe\n",
    "X_train = pd.concat([num_X_train, OH_cols_train], axis=1)\n",
    "X_valid = pd.concat([num_X_valid, OH_cols_valid], axis=1)"
   ]
  },
  {
   "cell_type": "code",
   "execution_count": 26,
   "id": "169689a6",
   "metadata": {},
   "outputs": [],
   "source": [
    "#The onehot encoding results in extra columns, but these columns are each others opposites.\n",
    "#As the value for gender is binary, i.e. male or female, we can keep one column and have males as 1 and females as 0. \n",
    "#This is easily checked by comparing the same indexes in both df prints.\n",
    "X_train.rename(columns = {0: \"Female\", 1: \"Male\"}, inplace=True)\n",
    "X_valid.rename(columns = {0: \"Female\", 1: \"Male\"}, inplace=True)\n",
    "\n",
    "#after renaming the columns, we drop the female column\n",
    "X_train.drop('Female', inplace=True, axis=1)\n",
    "X_valid.drop('Female', inplace=True, axis=1)"
   ]
  },
  {
   "cell_type": "code",
   "execution_count": 27,
   "id": "41aa8ab9",
   "metadata": {},
   "outputs": [
    {
     "name": "stdout",
     "output_type": "stream",
     "text": [
      "<class 'pandas.core.frame.DataFrame'>\n",
      "Int64Index: 231 entries, 291 to 37\n",
      "Data columns (total 15 columns):\n",
      " #   Column                 Non-Null Count  Dtype  \n",
      "---  ------                 --------------  -----  \n",
      " 0   AGE                    231 non-null    int64  \n",
      " 1   SMOKING                231 non-null    int64  \n",
      " 2   YELLOW_FINGERS         231 non-null    int64  \n",
      " 3   ANXIETY                231 non-null    int64  \n",
      " 4   PEER_PRESSURE          231 non-null    int64  \n",
      " 5   CHRONIC DISEASE        231 non-null    int64  \n",
      " 6   FATIGUE                231 non-null    int64  \n",
      " 7   ALLERGY                231 non-null    int64  \n",
      " 8   WHEEZING               231 non-null    int64  \n",
      " 9   ALCOHOL CONSUMING      231 non-null    int64  \n",
      " 10  COUGHING               231 non-null    int64  \n",
      " 11  SHORTNESS OF BREATH    231 non-null    int64  \n",
      " 12  SWALLOWING DIFFICULTY  231 non-null    int64  \n",
      " 13  CHEST PAIN             231 non-null    int64  \n",
      " 14  Male                   231 non-null    float64\n",
      "dtypes: float64(1), int64(14)\n",
      "memory usage: 28.9 KB\n"
     ]
    }
   ],
   "source": [
    "X_train.info()"
   ]
  },
  {
   "cell_type": "code",
   "execution_count": 28,
   "id": "1fe6a09e",
   "metadata": {},
   "outputs": [
    {
     "data": {
      "text/html": [
       "<div>\n",
       "<style scoped>\n",
       "    .dataframe tbody tr th:only-of-type {\n",
       "        vertical-align: middle;\n",
       "    }\n",
       "\n",
       "    .dataframe tbody tr th {\n",
       "        vertical-align: top;\n",
       "    }\n",
       "\n",
       "    .dataframe thead th {\n",
       "        text-align: right;\n",
       "    }\n",
       "</style>\n",
       "<table border=\"1\" class=\"dataframe\">\n",
       "  <thead>\n",
       "    <tr style=\"text-align: right;\">\n",
       "      <th></th>\n",
       "      <th>AGE</th>\n",
       "      <th>SMOKING</th>\n",
       "      <th>YELLOW_FINGERS</th>\n",
       "      <th>ANXIETY</th>\n",
       "      <th>PEER_PRESSURE</th>\n",
       "      <th>CHRONIC DISEASE</th>\n",
       "      <th>FATIGUE</th>\n",
       "      <th>ALLERGY</th>\n",
       "      <th>WHEEZING</th>\n",
       "      <th>ALCOHOL CONSUMING</th>\n",
       "      <th>COUGHING</th>\n",
       "      <th>SHORTNESS OF BREATH</th>\n",
       "      <th>SWALLOWING DIFFICULTY</th>\n",
       "      <th>CHEST PAIN</th>\n",
       "      <th>Male</th>\n",
       "    </tr>\n",
       "  </thead>\n",
       "  <tbody>\n",
       "    <tr>\n",
       "      <th>238</th>\n",
       "      <td>38</td>\n",
       "      <td>1</td>\n",
       "      <td>2</td>\n",
       "      <td>1</td>\n",
       "      <td>1</td>\n",
       "      <td>2</td>\n",
       "      <td>2</td>\n",
       "      <td>2</td>\n",
       "      <td>2</td>\n",
       "      <td>1</td>\n",
       "      <td>2</td>\n",
       "      <td>2</td>\n",
       "      <td>1</td>\n",
       "      <td>2</td>\n",
       "      <td>0.0</td>\n",
       "    </tr>\n",
       "    <tr>\n",
       "      <th>257</th>\n",
       "      <td>64</td>\n",
       "      <td>2</td>\n",
       "      <td>1</td>\n",
       "      <td>1</td>\n",
       "      <td>1</td>\n",
       "      <td>1</td>\n",
       "      <td>1</td>\n",
       "      <td>2</td>\n",
       "      <td>2</td>\n",
       "      <td>2</td>\n",
       "      <td>2</td>\n",
       "      <td>1</td>\n",
       "      <td>1</td>\n",
       "      <td>2</td>\n",
       "      <td>1.0</td>\n",
       "    </tr>\n",
       "    <tr>\n",
       "      <th>214</th>\n",
       "      <td>61</td>\n",
       "      <td>2</td>\n",
       "      <td>2</td>\n",
       "      <td>2</td>\n",
       "      <td>2</td>\n",
       "      <td>1</td>\n",
       "      <td>2</td>\n",
       "      <td>1</td>\n",
       "      <td>1</td>\n",
       "      <td>1</td>\n",
       "      <td>2</td>\n",
       "      <td>2</td>\n",
       "      <td>2</td>\n",
       "      <td>2</td>\n",
       "      <td>0.0</td>\n",
       "    </tr>\n",
       "    <tr>\n",
       "      <th>70</th>\n",
       "      <td>68</td>\n",
       "      <td>2</td>\n",
       "      <td>2</td>\n",
       "      <td>2</td>\n",
       "      <td>2</td>\n",
       "      <td>1</td>\n",
       "      <td>1</td>\n",
       "      <td>2</td>\n",
       "      <td>1</td>\n",
       "      <td>2</td>\n",
       "      <td>1</td>\n",
       "      <td>1</td>\n",
       "      <td>2</td>\n",
       "      <td>2</td>\n",
       "      <td>1.0</td>\n",
       "    </tr>\n",
       "    <tr>\n",
       "      <th>139</th>\n",
       "      <td>63</td>\n",
       "      <td>1</td>\n",
       "      <td>2</td>\n",
       "      <td>1</td>\n",
       "      <td>1</td>\n",
       "      <td>1</td>\n",
       "      <td>2</td>\n",
       "      <td>1</td>\n",
       "      <td>2</td>\n",
       "      <td>2</td>\n",
       "      <td>2</td>\n",
       "      <td>2</td>\n",
       "      <td>1</td>\n",
       "      <td>1</td>\n",
       "      <td>1.0</td>\n",
       "    </tr>\n",
       "    <tr>\n",
       "      <th>...</th>\n",
       "      <td>...</td>\n",
       "      <td>...</td>\n",
       "      <td>...</td>\n",
       "      <td>...</td>\n",
       "      <td>...</td>\n",
       "      <td>...</td>\n",
       "      <td>...</td>\n",
       "      <td>...</td>\n",
       "      <td>...</td>\n",
       "      <td>...</td>\n",
       "      <td>...</td>\n",
       "      <td>...</td>\n",
       "      <td>...</td>\n",
       "      <td>...</td>\n",
       "      <td>...</td>\n",
       "    </tr>\n",
       "    <tr>\n",
       "      <th>256</th>\n",
       "      <td>60</td>\n",
       "      <td>2</td>\n",
       "      <td>1</td>\n",
       "      <td>1</td>\n",
       "      <td>1</td>\n",
       "      <td>1</td>\n",
       "      <td>2</td>\n",
       "      <td>2</td>\n",
       "      <td>2</td>\n",
       "      <td>2</td>\n",
       "      <td>2</td>\n",
       "      <td>2</td>\n",
       "      <td>1</td>\n",
       "      <td>2</td>\n",
       "      <td>1.0</td>\n",
       "    </tr>\n",
       "    <tr>\n",
       "      <th>39</th>\n",
       "      <td>60</td>\n",
       "      <td>2</td>\n",
       "      <td>1</td>\n",
       "      <td>1</td>\n",
       "      <td>1</td>\n",
       "      <td>2</td>\n",
       "      <td>1</td>\n",
       "      <td>2</td>\n",
       "      <td>2</td>\n",
       "      <td>2</td>\n",
       "      <td>2</td>\n",
       "      <td>1</td>\n",
       "      <td>1</td>\n",
       "      <td>2</td>\n",
       "      <td>1.0</td>\n",
       "    </tr>\n",
       "    <tr>\n",
       "      <th>250</th>\n",
       "      <td>69</td>\n",
       "      <td>2</td>\n",
       "      <td>2</td>\n",
       "      <td>2</td>\n",
       "      <td>2</td>\n",
       "      <td>1</td>\n",
       "      <td>2</td>\n",
       "      <td>2</td>\n",
       "      <td>1</td>\n",
       "      <td>1</td>\n",
       "      <td>1</td>\n",
       "      <td>2</td>\n",
       "      <td>2</td>\n",
       "      <td>1</td>\n",
       "      <td>1.0</td>\n",
       "    </tr>\n",
       "    <tr>\n",
       "      <th>163</th>\n",
       "      <td>68</td>\n",
       "      <td>2</td>\n",
       "      <td>1</td>\n",
       "      <td>1</td>\n",
       "      <td>2</td>\n",
       "      <td>2</td>\n",
       "      <td>2</td>\n",
       "      <td>2</td>\n",
       "      <td>2</td>\n",
       "      <td>2</td>\n",
       "      <td>2</td>\n",
       "      <td>2</td>\n",
       "      <td>2</td>\n",
       "      <td>2</td>\n",
       "      <td>1.0</td>\n",
       "    </tr>\n",
       "    <tr>\n",
       "      <th>171</th>\n",
       "      <td>57</td>\n",
       "      <td>1</td>\n",
       "      <td>2</td>\n",
       "      <td>2</td>\n",
       "      <td>1</td>\n",
       "      <td>1</td>\n",
       "      <td>1</td>\n",
       "      <td>1</td>\n",
       "      <td>1</td>\n",
       "      <td>1</td>\n",
       "      <td>2</td>\n",
       "      <td>1</td>\n",
       "      <td>1</td>\n",
       "      <td>1</td>\n",
       "      <td>0.0</td>\n",
       "    </tr>\n",
       "  </tbody>\n",
       "</table>\n",
       "<p>78 rows × 15 columns</p>\n",
       "</div>"
      ],
      "text/plain": [
       "     AGE  SMOKING  YELLOW_FINGERS  ANXIETY  PEER_PRESSURE  CHRONIC DISEASE  \\\n",
       "238   38        1               2        1              1                2   \n",
       "257   64        2               1        1              1                1   \n",
       "214   61        2               2        2              2                1   \n",
       "70    68        2               2        2              2                1   \n",
       "139   63        1               2        1              1                1   \n",
       "..   ...      ...             ...      ...            ...              ...   \n",
       "256   60        2               1        1              1                1   \n",
       "39    60        2               1        1              1                2   \n",
       "250   69        2               2        2              2                1   \n",
       "163   68        2               1        1              2                2   \n",
       "171   57        1               2        2              1                1   \n",
       "\n",
       "     FATIGUE   ALLERGY   WHEEZING  ALCOHOL CONSUMING  COUGHING  \\\n",
       "238         2         2         2                  1         2   \n",
       "257         1         2         2                  2         2   \n",
       "214         2         1         1                  1         2   \n",
       "70          1         2         1                  2         1   \n",
       "139         2         1         2                  2         2   \n",
       "..        ...       ...       ...                ...       ...   \n",
       "256         2         2         2                  2         2   \n",
       "39          1         2         2                  2         2   \n",
       "250         2         2         1                  1         1   \n",
       "163         2         2         2                  2         2   \n",
       "171         1         1         1                  1         2   \n",
       "\n",
       "     SHORTNESS OF BREATH  SWALLOWING DIFFICULTY  CHEST PAIN  Male  \n",
       "238                    2                      1           2   0.0  \n",
       "257                    1                      1           2   1.0  \n",
       "214                    2                      2           2   0.0  \n",
       "70                     1                      2           2   1.0  \n",
       "139                    2                      1           1   1.0  \n",
       "..                   ...                    ...         ...   ...  \n",
       "256                    2                      1           2   1.0  \n",
       "39                     1                      1           2   1.0  \n",
       "250                    2                      2           1   1.0  \n",
       "163                    2                      2           2   1.0  \n",
       "171                    1                      1           1   0.0  \n",
       "\n",
       "[78 rows x 15 columns]"
      ]
     },
     "execution_count": 28,
     "metadata": {},
     "output_type": "execute_result"
    }
   ],
   "source": [
    "X_valid"
   ]
  },
  {
   "cell_type": "markdown",
   "id": "df22ca1f",
   "metadata": {},
   "source": [
    "# Feature Scaling\n",
    "As we plan to use some models that implement gradient descent, we need to apply feature scaling, thereby avoiding misclassification "
   ]
  },
  {
   "cell_type": "code",
   "execution_count": 29,
   "id": "e5e85f5c",
   "metadata": {},
   "outputs": [],
   "source": [
    "scaler = StandardScaler()\n",
    "X_train = scaler.fit_transform(X_train)\n",
    "X_valid = scaler.transform(X_valid)"
   ]
  },
  {
   "cell_type": "code",
   "execution_count": 30,
   "id": "e65d09b3",
   "metadata": {},
   "outputs": [
    {
     "data": {
      "text/plain": [
       "(231, 15)"
      ]
     },
     "execution_count": 30,
     "metadata": {},
     "output_type": "execute_result"
    }
   ],
   "source": [
    "X_train.shape"
   ]
  },
  {
   "cell_type": "code",
   "execution_count": 31,
   "id": "7c42bfa5",
   "metadata": {},
   "outputs": [
    {
     "data": {
      "text/plain": [
       "array([[ 0.98239366,  0.8660254 ,  0.90492963, ...,  1.06718737,\n",
       "         0.85839508,  1.01307245],\n",
       "       [-0.67664608,  0.8660254 ,  0.90492963, ...,  1.06718737,\n",
       "         0.85839508,  1.01307245],\n",
       "       [-0.55814324, -1.15470054,  0.90492963, ...,  1.06718737,\n",
       "         0.85839508,  1.01307245],\n",
       "       ...,\n",
       "       [ 0.50838231, -1.15470054, -1.1050583 , ..., -0.93704257,\n",
       "         0.85839508,  1.01307245],\n",
       "       [ 0.15287379, -1.15470054, -1.1050583 , ...,  1.06718737,\n",
       "        -1.16496475, -0.98709623],\n",
       "       [-0.79514892, -1.15470054, -1.1050583 , ...,  1.06718737,\n",
       "        -1.16496475, -0.98709623]])"
      ]
     },
     "execution_count": 31,
     "metadata": {},
     "output_type": "execute_result"
    }
   ],
   "source": [
    "X_train"
   ]
  },
  {
   "cell_type": "markdown",
   "id": "5c0b31fd",
   "metadata": {},
   "source": [
    "# Build the models"
   ]
  },
  {
   "cell_type": "code",
   "execution_count": 32,
   "id": "f8e2edf2",
   "metadata": {},
   "outputs": [
    {
     "data": {
      "text/plain": [
       "RandomForestClassifier(random_state=0)"
      ]
     },
     "execution_count": 32,
     "metadata": {},
     "output_type": "execute_result"
    }
   ],
   "source": [
    "# Random Forest\n",
    "forest_model = RandomForestClassifier(random_state=0)\n",
    "forest_model.fit(X_train, y_train)"
   ]
  },
  {
   "cell_type": "code",
   "execution_count": 33,
   "id": "586f92bb",
   "metadata": {},
   "outputs": [
    {
     "data": {
      "text/plain": [
       "SVC(kernel='linear')"
      ]
     },
     "execution_count": 33,
     "metadata": {},
     "output_type": "execute_result"
    }
   ],
   "source": [
    "# Support vector machine Model\n",
    "svm_model = svm.SVC(kernel='linear')\n",
    "svm_model.fit(X_train, y_train)"
   ]
  },
  {
   "cell_type": "code",
   "execution_count": 34,
   "id": "e1d63308",
   "metadata": {},
   "outputs": [
    {
     "data": {
      "text/plain": [
       "LogisticRegression()"
      ]
     },
     "execution_count": 34,
     "metadata": {},
     "output_type": "execute_result"
    }
   ],
   "source": [
    "# Logistic Regression Model\n",
    "LR_model = LogisticRegression()\n",
    "LR_model.fit(X_train, y_train)"
   ]
  },
  {
   "cell_type": "code",
   "execution_count": 35,
   "id": "164066f7",
   "metadata": {},
   "outputs": [],
   "source": [
    "# KNN\n",
    "k_model = KNeighborsClassifier(n_neighbors=16)\n",
    "kfit_model = k_model.fit(X_train, y_train)"
   ]
  },
  {
   "cell_type": "code",
   "execution_count": 36,
   "id": "da47a8f1",
   "metadata": {},
   "outputs": [],
   "source": [
    "forest_prediction = forest_model.predict(X_valid)\n",
    "svm_prediction = svm_model.predict(X_valid)\n",
    "LR_prediction = LR_model.predict(X_valid)\n",
    "knn_prediction = kfit_model.predict(X_valid)"
   ]
  },
  {
   "cell_type": "markdown",
   "id": "77e5f5c5",
   "metadata": {},
   "source": [
    "# Evaluate the model"
   ]
  },
  {
   "cell_type": "code",
   "execution_count": 37,
   "id": "215d3d15",
   "metadata": {},
   "outputs": [],
   "source": [
    "#Numerical confusion matrix\n",
    "def create_Numconfusion_matrix(prediction, title):\n",
    "    cm= confusion_matrix( y_valid, prediction)\n",
    "    ax= plt.subplot()\n",
    "    sns.heatmap(cm, annot=True, fmt='g', ax=ax, cmap='Greens');  #annot=True to annotate cells, ftm='g' to disable scientific notation\n",
    "\n",
    "    # labels, title and ticks\n",
    "    ax.set_xlabel('Predicted labels');ax.set_ylabel('True labels'); \n",
    "    ax.set_title(f'Confusion Matrix {title} Model'); \n",
    "    ax.xaxis.set_ticklabels(['No', 'Yes']); ax.yaxis.set_ticklabels(['No', 'Yes']);\n",
    "    \n",
    "#Percental confusion matrix    \n",
    "def create_Perconfusion_matrix(prediction, title):\n",
    "    cm= confusion_matrix( y_valid, prediction)\n",
    "    ax= plt.subplot()\n",
    "    sns.heatmap(cm/np.sum(cm), annot=True, \n",
    "                fmt='.2%', cmap='Blues', ax=ax)\n",
    "\n",
    "    # labels, title and ticks\n",
    "    ax.set_xlabel('Predicted labels');ax.set_ylabel('True labels'); \n",
    "    ax.set_title(f'Confusion Matrix {title} Model'); \n",
    "    ax.xaxis.set_ticklabels(['No', 'Yes']); ax.yaxis.set_ticklabels(['No', 'Yes']);"
   ]
  },
  {
   "cell_type": "markdown",
   "id": "abea4fb5",
   "metadata": {},
   "source": [
    "## SVM Confusion matrix\n"
   ]
  },
  {
   "cell_type": "code",
   "execution_count": 38,
   "id": "8ae0f521",
   "metadata": {},
   "outputs": [
    {
     "data": {
      "image/png": "[encoded data removed]",
      "text/plain": [
       "<Figure size 432x288 with 2 Axes>"
      ]
     },
     "metadata": {
      "needs_background": "light"
     },
     "output_type": "display_data"
    }
   ],
   "source": [
    "create_Numconfusion_matrix(svm_prediction, \"SVM\")"
   ]
  },
  {
   "cell_type": "code",
   "execution_count": 39,
   "id": "3945fbcd",
   "metadata": {},
   "outputs": [
    {
     "data": {
      "image/png": "[encoded data removed]",
      "text/plain": [
       "<Figure size 432x288 with 2 Axes>"
      ]
     },
     "metadata": {
      "needs_background": "light"
     },
     "output_type": "display_data"
    }
   ],
   "source": [
    "create_Perconfusion_matrix(svm_prediction, 'SVM')"
   ]
  },
  {
   "cell_type": "markdown",
   "id": "c6e2424b",
   "metadata": {},
   "source": [
    "Above we see two matrices that highlight the accuracy of the SVM model. The model predicted about 92% correctly. In the context of the data set, this performance is even better, as only 3 cases were predicted to be False Negatives, i.e. the patient had cancer but the model predicted no cancer. These cases are eliminated in an ideal world, where no patients fall through the cracks. However, this is a good initial step."
   ]
  },
  {
   "cell_type": "markdown",
   "id": "4e931445",
   "metadata": {},
   "source": [
    "## Logistic Regression Confusion Matrix\n"
   ]
  },
  {
   "cell_type": "code",
   "execution_count": 40,
   "id": "6985e4a2",
   "metadata": {},
   "outputs": [
    {
     "data": {
      "image/png": "[encoded data removed]",
      "text/plain": [
       "<Figure size 432x288 with 2 Axes>"
      ]
     },
     "metadata": {
      "needs_background": "light"
     },
     "output_type": "display_data"
    }
   ],
   "source": [
    "create_Numconfusion_matrix(LR_prediction, \"Logistic Regression\")"
   ]
  },
  {
   "cell_type": "code",
   "execution_count": 41,
   "id": "6a16d9da",
   "metadata": {},
   "outputs": [
    {
     "data": {
      "image/png": "[encoded data removed]",
      "text/plain": [
       "<Figure size 432x288 with 2 Axes>"
      ]
     },
     "metadata": {
      "needs_background": "light"
     },
     "output_type": "display_data"
    }
   ],
   "source": [
    "create_Perconfusion_matrix(LR_prediction, 'Logistic Regression')"
   ]
  },
  {
   "cell_type": "markdown",
   "id": "b1d0bbb3",
   "metadata": {},
   "source": [
    "Above we see two matrices that highlight the accuracy of the Logistic Regression model. Interestingly, the model performed as well as the SVM model. This might be due to the smaller dataset, further research should be done to identify the difference. "
   ]
  },
  {
   "cell_type": "markdown",
   "id": "71bf872d",
   "metadata": {},
   "source": [
    "# Random Forest Classifier"
   ]
  },
  {
   "cell_type": "code",
   "execution_count": 42,
   "id": "67d4d3e7",
   "metadata": {},
   "outputs": [
    {
     "data": {
      "image/png": "[encoded data removed]",
      "text/plain": [
       "<Figure size 432x288 with 2 Axes>"
      ]
     },
     "metadata": {
      "needs_background": "light"
     },
     "output_type": "display_data"
    }
   ],
   "source": [
    "create_Numconfusion_matrix(forest_prediction, \"Forest Classifier\")"
   ]
  },
  {
   "cell_type": "code",
   "execution_count": 43,
   "id": "2780a7c0",
   "metadata": {},
   "outputs": [
    {
     "data": {
      "image/png": "[encoded data removed]",
      "text/plain": [
       "<Figure size 432x288 with 2 Axes>"
      ]
     },
     "metadata": {
      "needs_background": "light"
     },
     "output_type": "display_data"
    }
   ],
   "source": [
    "create_Perconfusion_matrix(forest_prediction, \"Forest Classifier\")"
   ]
  },
  {
   "cell_type": "markdown",
   "id": "7a8d5b09",
   "metadata": {},
   "source": [
    "Above we see two matrices that highlight the accuracy of the Random Forest Classifier model. As we can see in the matrices, the model performs worse than the svm and logistic regression models, which is highlighted by lower values for True Positive and True Negatives. A larger dataset might pronounce the differences. "
   ]
  },
  {
   "cell_type": "markdown",
   "id": "1995f8a9",
   "metadata": {},
   "source": [
    "## K Nearest Neighbour"
   ]
  },
  {
   "cell_type": "code",
   "execution_count": 44,
   "id": "4ccc9bf7",
   "metadata": {},
   "outputs": [
    {
     "data": {
      "image/png": "[encoded data removed]",
      "text/plain": [
       "<Figure size 432x288 with 2 Axes>"
      ]
     },
     "metadata": {
      "needs_background": "light"
     },
     "output_type": "display_data"
    }
   ],
   "source": [
    "create_Numconfusion_matrix(knn_prediction, \"KNN\")"
   ]
  },
  {
   "cell_type": "code",
   "execution_count": 45,
   "id": "dcbd0023",
   "metadata": {},
   "outputs": [
    {
     "data": {
      "image/png": "[encoded data removed]",
      "text/plain": [
       "<Figure size 432x288 with 2 Axes>"
      ]
     },
     "metadata": {
      "needs_background": "light"
     },
     "output_type": "display_data"
    }
   ],
   "source": [
    "create_Perconfusion_matrix(knn_prediction, \"KNN\")"
   ]
  },
  {
   "cell_type": "markdown",
   "id": "16c12478",
   "metadata": {},
   "source": [
    "Above we see two matrices that highlight the accuracy of the K Nearest Neighbour model. Interestingly, as we can see in the matrices, the model performs worse than the svm and logistic regression models, which is highlighted by lower values for True Positive and True Negatives. However, the model does more oftenly misclassify patients who do not have cancer as if they do have cancer, i.e. a False Positive. This inaccuracy could be more acceptable than that of the Random Forest Classifier model, as in the context of this project means that False Negatives weigh very strongly. We do not want someone to walk around with a treatable disease, and whilst a False Positive could give some quite a scare, it does mean a lower chance of people falling through the cracks."
   ]
  },
  {
   "cell_type": "code",
   "execution_count": 46,
   "id": "265533ec",
   "metadata": {},
   "outputs": [],
   "source": [
    "def absolute_squared_metrics(prediction, title):\n",
    "    mae_controle = 100 - (100* mean_absolute_error(y_valid, prediction))\n",
    "    mse_controle = 100 - (100* mean_squared_error(y_valid, prediction))    \n",
    "    print(f\"The {title} model has the following metric outputs\")\n",
    "    print(f'Mean Absolute Error {title} Model: {mae_controle}')\n",
    "    print(f'Mean Squeared Error {title} Model: {mse_controle}')\n"
   ]
  },
  {
   "cell_type": "code",
   "execution_count": 47,
   "id": "589a5e4c",
   "metadata": {},
   "outputs": [
    {
     "name": "stdout",
     "output_type": "stream",
     "text": [
      "The SVM model has the following metric outputs\n",
      "Mean Absolute Error SVM Model: 92.3076923076923\n",
      "Mean Squeared Error SVM Model: 92.3076923076923\n"
     ]
    }
   ],
   "source": [
    "absolute_squared_metrics(svm_prediction, 'SVM')"
   ]
  },
  {
   "cell_type": "code",
   "execution_count": 48,
   "id": "86f9592b",
   "metadata": {},
   "outputs": [
    {
     "name": "stdout",
     "output_type": "stream",
     "text": [
      "The Logistic Regression model has the following metric outputs\n",
      "Mean Absolute Error Logistic Regression Model: 92.3076923076923\n",
      "Mean Squeared Error Logistic Regression Model: 92.3076923076923\n"
     ]
    }
   ],
   "source": [
    "absolute_squared_metrics(LR_prediction, 'Logistic Regression')"
   ]
  },
  {
   "cell_type": "code",
   "execution_count": 49,
   "id": "5a577780",
   "metadata": {},
   "outputs": [
    {
     "name": "stdout",
     "output_type": "stream",
     "text": [
      "The Random Forest Classifier model has the following metric outputs\n",
      "Mean Absolute Error Random Forest Classifier Model: 88.46153846153847\n",
      "Mean Squeared Error Random Forest Classifier Model: 88.46153846153847\n"
     ]
    }
   ],
   "source": [
    "absolute_squared_metrics(forest_prediction, 'Random Forest Classifier')"
   ]
  },
  {
   "cell_type": "code",
   "execution_count": 50,
   "id": "28bc14f1",
   "metadata": {},
   "outputs": [
    {
     "name": "stdout",
     "output_type": "stream",
     "text": [
      "The KNN model has the following metric outputs\n",
      "Mean Absolute Error KNN Model: 87.17948717948718\n",
      "Mean Squeared Error KNN Model: 87.17948717948718\n"
     ]
    }
   ],
   "source": [
    "absolute_squared_metrics(knn_prediction, 'KNN')"
   ]
  },
  {
   "cell_type": "code",
   "execution_count": 51,
   "id": "021cac88",
   "metadata": {},
   "outputs": [],
   "source": [
    "def class_report(prediction, title):\n",
    "    report = classification_report(y_valid, prediction)\n",
    "    print(f\"The {title} classification report is shown below:\")\n",
    "    print(report)"
   ]
  },
  {
   "cell_type": "code",
   "execution_count": 52,
   "id": "04e3d4cd",
   "metadata": {},
   "outputs": [
    {
     "name": "stdout",
     "output_type": "stream",
     "text": [
      "The SVM classification report is shown below:\n",
      "              precision    recall  f1-score   support\n",
      "\n",
      "           0       0.67      0.67      0.67         9\n",
      "           1       0.96      0.96      0.96        69\n",
      "\n",
      "    accuracy                           0.92        78\n",
      "   macro avg       0.81      0.81      0.81        78\n",
      "weighted avg       0.92      0.92      0.92        78\n",
      "\n"
     ]
    }
   ],
   "source": [
    "class_report(svm_prediction, 'SVM')"
   ]
  },
  {
   "cell_type": "code",
   "execution_count": 53,
   "id": "7e1063e5",
   "metadata": {},
   "outputs": [
    {
     "name": "stdout",
     "output_type": "stream",
     "text": [
      "The Logistic Regression classification report is shown below:\n",
      "              precision    recall  f1-score   support\n",
      "\n",
      "           0       0.67      0.67      0.67         9\n",
      "           1       0.96      0.96      0.96        69\n",
      "\n",
      "    accuracy                           0.92        78\n",
      "   macro avg       0.81      0.81      0.81        78\n",
      "weighted avg       0.92      0.92      0.92        78\n",
      "\n"
     ]
    }
   ],
   "source": [
    "class_report(LR_prediction, 'Logistic Regression')"
   ]
  },
  {
   "cell_type": "code",
   "execution_count": 54,
   "id": "c01884b5",
   "metadata": {},
   "outputs": [
    {
     "name": "stdout",
     "output_type": "stream",
     "text": [
      "The Random Forest Classifier classification report is shown below:\n",
      "              precision    recall  f1-score   support\n",
      "\n",
      "           0       0.50      0.44      0.47         9\n",
      "           1       0.93      0.94      0.94        69\n",
      "\n",
      "    accuracy                           0.88        78\n",
      "   macro avg       0.71      0.69      0.70        78\n",
      "weighted avg       0.88      0.88      0.88        78\n",
      "\n"
     ]
    }
   ],
   "source": [
    "class_report(forest_prediction, 'Random Forest Classifier')"
   ]
  },
  {
   "cell_type": "code",
   "execution_count": 55,
   "id": "e1a4cb94",
   "metadata": {},
   "outputs": [
    {
     "name": "stdout",
     "output_type": "stream",
     "text": [
      "The KNN classification report is shown below:\n",
      "              precision    recall  f1-score   support\n",
      "\n",
      "           0       0.43      0.33      0.38         9\n",
      "           1       0.92      0.94      0.93        69\n",
      "\n",
      "    accuracy                           0.87        78\n",
      "   macro avg       0.67      0.64      0.65        78\n",
      "weighted avg       0.86      0.87      0.86        78\n",
      "\n"
     ]
    }
   ],
   "source": [
    "class_report(knn_prediction, 'KNN')"
   ]
  },
  {
   "cell_type": "markdown",
   "id": "64d89867",
   "metadata": {},
   "source": [
    "# Overal Performance Summary"
   ]
  },
  {
   "cell_type": "code",
   "execution_count": 56,
   "id": "4eb63a79",
   "metadata": {},
   "outputs": [
    {
     "data": {
      "text/html": [
       "<div>\n",
       "<style scoped>\n",
       "    .dataframe tbody tr th:only-of-type {\n",
       "        vertical-align: middle;\n",
       "    }\n",
       "\n",
       "    .dataframe tbody tr th {\n",
       "        vertical-align: top;\n",
       "    }\n",
       "\n",
       "    .dataframe thead th {\n",
       "        text-align: right;\n",
       "    }\n",
       "</style>\n",
       "<table border=\"1\" class=\"dataframe\">\n",
       "  <thead>\n",
       "    <tr style=\"text-align: right;\">\n",
       "      <th></th>\n",
       "      <th>Model</th>\n",
       "      <th>Score</th>\n",
       "    </tr>\n",
       "  </thead>\n",
       "  <tbody>\n",
       "    <tr>\n",
       "      <th>0</th>\n",
       "      <td>Logistic Regression</td>\n",
       "      <td>0.923077</td>\n",
       "    </tr>\n",
       "    <tr>\n",
       "      <th>2</th>\n",
       "      <td>SVM</td>\n",
       "      <td>0.923077</td>\n",
       "    </tr>\n",
       "    <tr>\n",
       "      <th>3</th>\n",
       "      <td>Random Forest</td>\n",
       "      <td>0.884615</td>\n",
       "    </tr>\n",
       "    <tr>\n",
       "      <th>1</th>\n",
       "      <td>KNN</td>\n",
       "      <td>0.871795</td>\n",
       "    </tr>\n",
       "  </tbody>\n",
       "</table>\n",
       "</div>"
      ],
      "text/plain": [
       "                 Model     Score\n",
       "0  Logistic Regression  0.923077\n",
       "2                  SVM  0.923077\n",
       "3        Random Forest  0.884615\n",
       "1                  KNN  0.871795"
      ]
     },
     "execution_count": 56,
     "metadata": {},
     "output_type": "execute_result"
    }
   ],
   "source": [
    "models = ['Logistic Regression', 'KNN', 'SVM', 'Random Forest']\n",
    "\n",
    "lr_acc = accuracy_score(y_valid, LR_prediction)\n",
    "knn_acc = accuracy_score(y_valid, knn_prediction)\n",
    "svm_acc = accuracy_score(y_valid, svm_prediction)\n",
    "forest_acc = accuracy_score(y_valid, forest_prediction)\n",
    "\n",
    "scores = [lr_acc , knn_acc, svm_acc, forest_acc,]\n",
    "\n",
    "models = pd.DataFrame({'Model' : models, 'Score' : scores})\n",
    "\n",
    "\n",
    "models.sort_values(by = 'Score', ascending = False)"
   ]
  },
  {
   "cell_type": "markdown",
   "id": "3b40ae45",
   "metadata": {},
   "source": [
    "# Going Deeper"
   ]
  },
  {
   "cell_type": "markdown",
   "id": "451f5b22",
   "metadata": {},
   "source": [
    "## Feature Ablation\n",
    "\n",
    "Whilst seeing which of the 4 models would perform best, it still leaves some questions. For example, what are the most important features that contribute to lung cancer? Knowing this can help politicians to enhance their legislations and it could perhaps also help smokers to change their ways.\n",
    "\n",
    "But what is feature ablation? In short, it is systematically removing features from your dataset to check its importance towards the models prediction (originally coined in the field of Biology). Below we will go through the ablation."
   ]
  },
  {
   "cell_type": "code",
   "execution_count": 57,
   "id": "0dd12cff",
   "metadata": {},
   "outputs": [],
   "source": [
    "def model_creation(model, X_train_ap, X_valid_ap, y_train, y_test):\n",
    "    \"\"\"\n",
    "    This function encapsulates the creation and training of each model used above. This function will create and fit the model, \n",
    "    make a prediction with said model and return the accuracy score of said model. It takes in the model used and the divided \n",
    "    data.\n",
    "    \"\"\"\n",
    "    \n",
    "    if model == 'svm':\n",
    "        svm_model = svm.SVC(kernel='linear')\n",
    "        svm_model.fit(X_train_ap, y_train)\n",
    "        y_prediction = svm_model.predict(X_valid_ap)\n",
    "        return accuracy_score(y_valid, y_prediction)\n",
    "    \n",
    "    elif model == 'rf':\n",
    "        forest_model = RandomForestClassifier(random_state=0)\n",
    "        forest_model.fit(X_train_ap, y_train)\n",
    "        y_prediction = forest_model.predict(X_valid_ap)\n",
    "        return accuracy_score(y_valid, y_prediction)\n",
    "    \n",
    "    elif model == 'knn':\n",
    "        k_model = KNeighborsClassifier(n_neighbors=16)\n",
    "        kfit_model = k_model.fit(X_train_ap, y_train)\n",
    "        y_prediction = k_model.predict(X_valid_ap)\n",
    "        return accuracy_score(y_valid, y_prediction)\n",
    "    \n",
    "    elif model == 'lr':\n",
    "        LR_model = LogisticRegression()\n",
    "        LR_model.fit(X_train_ap, y_train)\n",
    "        y_prediction = LR_model.predict(X_valid_ap)\n",
    "        return accuracy_score(y_valid, y_prediction)"
   ]
  },
  {
   "cell_type": "code",
   "execution_count": 107,
   "id": "1f142a91",
   "metadata": {},
   "outputs": [],
   "source": [
    "base_scores_list = [svm_acc, forest_acc, knn_acc, lr_acc]\n",
    "\n",
    "def feature_ablation():\n",
    "    \"\"\"\n",
    "    This function creates a new dataframe where the to be ablated column is removed, and then calls the model_creation function\n",
    "    to remake the models. Following this, the accuracy scores is returned by the model_creation function and stored in the \n",
    "    coïnciding list.\n",
    "    \"\"\" \n",
    "    \n",
    "    # The base score of the models predictions when using all features is shown above, under \"Overal Performance Summary\"\n",
    "    # We also need to create a list for each model to store the different ablation trials\n",
    "    svm_ablation = []\n",
    "    RF_ablation = []\n",
    "    knn_ablation = []\n",
    "    LR_ablation = [] \n",
    "      \n",
    "    svm_scores = []\n",
    "    rf_scores = []\n",
    "    knn_scores = []\n",
    "    LR_scores = []\n",
    "    \n",
    "    \n",
    "## Create a loop that loops as often as there are columns, thereby testing ablation on each column\n",
    "    #for column in range(X_train.shape[1]):\n",
    "    for column in range(15):    \n",
    "        # (re)copy the numpy array to ensure we only work with 1 removed column\n",
    "        X_train_ap = X_train.copy()\n",
    "        X_valid_ap = X_valid.copy()\n",
    "       \n",
    "\n",
    "        #Drop the found column from the copied numpy array\n",
    "        X_train_ap = np.delete(X_train_ap, column, 1)\n",
    "        X_valid_ap = np.delete(X_valid_ap, column, 1)\n",
    "\n",
    "        #Create the models and store results in a list\n",
    "        svm_ablation.append(model_creation('svm', X_train_ap, X_valid_ap, y_train, y_valid))\n",
    "        RF_ablation.append(model_creation('rf', X_train_ap, X_valid_ap, y_train, y_valid))\n",
    "        knn_ablation.append(model_creation('knn', X_train_ap, X_valid_ap, y_train, y_valid))\n",
    "        LR_ablation.append(model_creation('lr', X_train_ap, X_valid_ap, y_train, y_valid))\n",
    "    \n",
    "\n",
    "    \n",
    "        #Calculate scores and store them in a different list\n",
    "        svm_scores.append(sorted_features(svm_ablation, base_scores_list[0]))\n",
    "        rf_scores.append(sorted_features(RF_ablation, base_scores_list[1]))\n",
    "        knn_scores.append(sorted_features(knn_ablation, base_scores_list[2]))\n",
    "        LR_scores.append(sorted_features(LR_ablation, base_scores_list[3]))\n",
    "\n",
    "    return svm_scores ,rf_scores, knn_scores, LR_scores  "
   ]
  },
  {
   "cell_type": "code",
   "execution_count": 108,
   "id": "71980f41",
   "metadata": {},
   "outputs": [],
   "source": [
    "def sorted_features(models, base_score): \n",
    "    \"\"\"\n",
    "    This function gets the ablated model and its corresponding base score. Using the scores of the ablated model, it calculates \n",
    "    the differences between the base score and the ablated model for each column. \n",
    "    \"\"\"\n",
    "\n",
    "    altered_scores = []\n",
    "    for score in models:\n",
    "        altered_scores.append(base_score-score)\n",
    "\n",
    "    return altered_scores"
   ]
  },
  {
   "cell_type": "code",
   "execution_count": 74,
   "id": "7cb401e5",
   "metadata": {},
   "outputs": [],
   "source": [
    "svm_scores, rf_scores, knn_scores, LR_scores = feature_ablation()"
   ]
  },
  {
   "cell_type": "markdown",
   "id": "16742928",
   "metadata": {},
   "source": [
    "### Ablation results\n",
    "\n",
    "Below are the ablation results shown. For each index in the list, the value represents ablated models score subtracted from the base score."
   ]
  },
  {
   "cell_type": "code",
   "execution_count": 82,
   "id": "09534e6e",
   "metadata": {},
   "outputs": [],
   "source": [
    "svm_ablated_difference = svm_scores[14]\n",
    "rf_ablated_difference = rf_scores[14]\n",
    "knn_ablated_difference = knn_scores[14]\n",
    "LR_ablated_difference = LR_scores[14]"
   ]
  },
  {
   "cell_type": "code",
   "execution_count": 106,
   "id": "604ae069",
   "metadata": {},
   "outputs": [],
   "source": [
    "def results(score_differences):\n",
    "    for column_index in enumerate(ablation_model_scores):\n",
    "        print(f\"Ablated Column Index: {column_index[0]},       Ablated Model Score:  {column_index[1]} \")"
   ]
  },
  {
   "cell_type": "code",
   "execution_count": 102,
   "id": "65f9f3ae",
   "metadata": {},
   "outputs": [
    {
     "name": "stdout",
     "output_type": "stream",
     "text": [
      "Ablated Column Index: 0,       Ablated Model Score:  0.012820512820512886 \n",
      "Ablated Column Index: 1,       Ablated Model Score:  0.0 \n",
      "Ablated Column Index: 2,       Ablated Model Score:  0.012820512820512886 \n",
      "Ablated Column Index: 3,       Ablated Model Score:  0.0 \n",
      "Ablated Column Index: 4,       Ablated Model Score:  0.02564102564102566 \n",
      "Ablated Column Index: 5,       Ablated Model Score:  0.03846153846153855 \n",
      "Ablated Column Index: 6,       Ablated Model Score:  0.03846153846153855 \n",
      "Ablated Column Index: 7,       Ablated Model Score:  0.03846153846153855 \n",
      "Ablated Column Index: 8,       Ablated Model Score:  0.012820512820512886 \n",
      "Ablated Column Index: 9,       Ablated Model Score:  0.02564102564102566 \n",
      "Ablated Column Index: 10,       Ablated Model Score:  0.012820512820512886 \n",
      "Ablated Column Index: 11,       Ablated Model Score:  0.0 \n",
      "Ablated Column Index: 12,       Ablated Model Score:  0.012820512820512886 \n",
      "Ablated Column Index: 13,       Ablated Model Score:  0.012820512820512886 \n",
      "Ablated Column Index: 14,       Ablated Model Score:  0.012820512820512886 \n"
     ]
    }
   ],
   "source": [
    "results(svm_ablated_difference)"
   ]
  },
  {
   "cell_type": "code",
   "execution_count": 103,
   "id": "ad1cd54f",
   "metadata": {},
   "outputs": [
    {
     "name": "stdout",
     "output_type": "stream",
     "text": [
      "Ablated Column Index: 0,       Ablated Model Score:  0.02564102564102566 \n",
      "Ablated Column Index: 1,       Ablated Model Score:  0.0 \n",
      "Ablated Column Index: 2,       Ablated Model Score:  0.0 \n",
      "Ablated Column Index: 3,       Ablated Model Score:  0.0 \n",
      "Ablated Column Index: 4,       Ablated Model Score:  0.0 \n",
      "Ablated Column Index: 5,       Ablated Model Score:  0.0 \n",
      "Ablated Column Index: 6,       Ablated Model Score:  0.0 \n",
      "Ablated Column Index: 7,       Ablated Model Score:  0.0 \n",
      "Ablated Column Index: 8,       Ablated Model Score:  -0.012820512820512886 \n",
      "Ablated Column Index: 9,       Ablated Model Score:  0.0 \n",
      "Ablated Column Index: 10,       Ablated Model Score:  0.0 \n",
      "Ablated Column Index: 11,       Ablated Model Score:  0.0 \n",
      "Ablated Column Index: 12,       Ablated Model Score:  0.0 \n",
      "Ablated Column Index: 13,       Ablated Model Score:  0.012820512820512775 \n",
      "Ablated Column Index: 14,       Ablated Model Score:  0.0 \n"
     ]
    }
   ],
   "source": [
    "results(rf_ablated_difference)"
   ]
  },
  {
   "cell_type": "code",
   "execution_count": 104,
   "id": "396250c6",
   "metadata": {},
   "outputs": [
    {
     "name": "stdout",
     "output_type": "stream",
     "text": [
      "Ablated Column Index: 0,       Ablated Model Score:  0.012820512820512886 \n",
      "Ablated Column Index: 1,       Ablated Model Score:  0.0 \n",
      "Ablated Column Index: 2,       Ablated Model Score:  0.0 \n",
      "Ablated Column Index: 3,       Ablated Model Score:  0.012820512820512886 \n",
      "Ablated Column Index: 4,       Ablated Model Score:  0.012820512820512886 \n",
      "Ablated Column Index: 5,       Ablated Model Score:  0.012820512820512886 \n",
      "Ablated Column Index: 6,       Ablated Model Score:  0.012820512820512886 \n",
      "Ablated Column Index: 7,       Ablated Model Score:  0.012820512820512886 \n",
      "Ablated Column Index: 8,       Ablated Model Score:  0.012820512820512886 \n",
      "Ablated Column Index: 9,       Ablated Model Score:  0.012820512820512886 \n",
      "Ablated Column Index: 10,       Ablated Model Score:  0.0 \n",
      "Ablated Column Index: 11,       Ablated Model Score:  0.012820512820512886 \n",
      "Ablated Column Index: 12,       Ablated Model Score:  0.012820512820512886 \n",
      "Ablated Column Index: 13,       Ablated Model Score:  0.012820512820512886 \n",
      "Ablated Column Index: 14,       Ablated Model Score:  0.012820512820512886 \n"
     ]
    }
   ],
   "source": [
    "results(knn_ablated_difference)"
   ]
  },
  {
   "cell_type": "code",
   "execution_count": 105,
   "id": "ca672ba7",
   "metadata": {},
   "outputs": [
    {
     "name": "stdout",
     "output_type": "stream",
     "text": [
      "Ablated Column Index: 0,       Ablated Model Score:  0.012820512820512886 \n",
      "Ablated Column Index: 1,       Ablated Model Score:  0.02564102564102566 \n",
      "Ablated Column Index: 2,       Ablated Model Score:  0.012820512820512886 \n",
      "Ablated Column Index: 3,       Ablated Model Score:  0.012820512820512886 \n",
      "Ablated Column Index: 4,       Ablated Model Score:  0.012820512820512886 \n",
      "Ablated Column Index: 5,       Ablated Model Score:  0.02564102564102566 \n",
      "Ablated Column Index: 6,       Ablated Model Score:  0.03846153846153855 \n",
      "Ablated Column Index: 7,       Ablated Model Score:  0.0 \n",
      "Ablated Column Index: 8,       Ablated Model Score:  0.012820512820512886 \n",
      "Ablated Column Index: 9,       Ablated Model Score:  0.05128205128205132 \n",
      "Ablated Column Index: 10,       Ablated Model Score:  0.012820512820512886 \n",
      "Ablated Column Index: 11,       Ablated Model Score:  0.0 \n",
      "Ablated Column Index: 12,       Ablated Model Score:  0.03846153846153855 \n",
      "Ablated Column Index: 13,       Ablated Model Score:  0.012820512820512886 \n",
      "Ablated Column Index: 14,       Ablated Model Score:  0.012820512820512886 \n"
     ]
    }
   ],
   "source": [
    "results(LR_ablated_difference)"
   ]
  },
  {
   "cell_type": "markdown",
   "id": "4ecd58a2",
   "metadata": {},
   "source": [
    "As we see from the results above, there is only one instance where the deletion of a feature results in a better performance. This can be seen when the 8th feature (ALLERGY) in the Random Forest Classifier is deleted. This results in a small enhancement, where the ablated model outperforms the base model by 0.013 per cent. However, interestingly deleting this feature in other models does not perform in a better model, but quite the opposite. \n",
    "\n",
    "###### why does this happen in RF?\n",
    "\n",
    "Another interesting outcome is that the scores of several ablated models are the same. This could indicate that these features have the same impact in the models, which could mean that we could possible remove them as well."
   ]
  },
  {
   "cell_type": "code",
   "execution_count": 115,
   "id": "b3954fa9",
   "metadata": {},
   "outputs": [
    {
     "data": {
      "text/plain": [
       "Text(158.09375, 0.5, 'Lung Cancer Features')"
      ]
     },
     "execution_count": 115,
     "metadata": {},
     "output_type": "execute_result"
    },
    {
     "data": {
      "image/png": "[encoded data removed]",
      "text/plain": [
       "<Figure size 1440x1080 with 2 Axes>"
      ]
     },
     "metadata": {
      "needs_background": "light"
     },
     "output_type": "display_data"
    }
   ],
   "source": [
    "correlation_matrix = df.corr()\n",
    "plt.subplots(figsize=(20,15))\n",
    "sns.heatmap(correlation_matrix, annot=True)\n",
    "\n",
    "plt.title(\"Correlation matrix of Lung Cancer data\")\n",
    "plt.xlabel(\"Lung Cancer Features\")\n",
    "plt.ylabel(\"Lung Cancer Features\")"
   ]
  },
  {
   "cell_type": "markdown",
   "id": "2c04404b",
   "metadata": {},
   "source": [
    "From the correlation matrix above, we can see that most features are barely correlated, but there are some exceptions. Take for examle the strong positive correlation between Anxiety and Yellow Fingers features or the noticable, but weak negative correlation between Alcohol Consuming and Yellow Fingers features. However, this does not explain the previously shown results and why the models perfoo. Let's dive deeper."
   ]
  },
  {
   "cell_type": "code",
   "execution_count": null,
   "id": "32bffe20",
   "metadata": {},
   "outputs": [],
   "source": []
  },
  {
   "cell_type": "markdown",
   "id": "6d9cda5b",
   "metadata": {},
   "source": [
    "# Conclusion"
   ]
  },
  {
   "cell_type": "markdown",
   "id": "1fa85f1c",
   "metadata": {},
   "source": [
    "In this document I have investigated a small data set regarding Lung Cancer and factors influencing it. This data set is collected from Kaggle, and the link to it can be found at the top of this document. After investigating the data set I have seperated the output set and input set, and performed one-hot encoding to transform the categorical data into numerical. Following this, I built 3 models known to work well for binary classification problems, those being the Random Forest Regressor, the Support Vector Machine, and Logistic Regression models. I then performed some evaluation methods, and from this evaluation we can see that the SVM model works best, as it has the lowest error rate and highest overall precision, recall, support and (those combined into) f1-score. "
   ]
  }
 ],
 "metadata": {
  "kernelspec": {
   "display_name": "Python 3",
   "language": "python",
   "name": "python3"
  },
  "language_info": {
   "codemirror_mode": {
    "name": "ipython",
    "version": 3
   },
   "file_extension": ".py",
   "mimetype": "text/x-python",
   "name": "python",
   "nbconvert_exporter": "python",
   "pygments_lexer": "ipython3",
   "version": "3.8.2"
  }
 },
 "nbformat": 4,
 "nbformat_minor": 5
}
